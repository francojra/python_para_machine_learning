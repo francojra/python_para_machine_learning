{
 "cells": [
  {
   "cell_type": "code",
   "execution_count": 1,
   "id": "90c6b73a",
   "metadata": {},
   "outputs": [],
   "source": [
    "# LISTAS\n",
    "lista1 = [1, 2, 3] # O Python só identifica como uma lista através dos colchetes."
   ]
  },
  {
   "cell_type": "code",
   "execution_count": 2,
   "id": "f63077b7",
   "metadata": {},
   "outputs": [
    {
     "data": {
      "text/plain": [
       "list"
      ]
     },
     "execution_count": 2,
     "metadata": {},
     "output_type": "execute_result"
    }
   ],
   "source": [
    "type(lista1)"
   ]
  },
  {
   "cell_type": "code",
   "execution_count": 3,
   "id": "9da913c2",
   "metadata": {},
   "outputs": [],
   "source": [
    "lista2 = [[1, 2, 3], [4, 5, 6], [7, 8, 9]]"
   ]
  },
  {
   "cell_type": "code",
   "execution_count": 4,
   "id": "fa0cdc5d",
   "metadata": {},
   "outputs": [
    {
     "data": {
      "text/plain": [
       "list"
      ]
     },
     "execution_count": 4,
     "metadata": {},
     "output_type": "execute_result"
    }
   ],
   "source": [
    "type(lista2)"
   ]
  },
  {
   "cell_type": "code",
   "execution_count": 5,
   "id": "d803cccc",
   "metadata": {},
   "outputs": [
    {
     "data": {
      "text/plain": [
       "1"
      ]
     },
     "execution_count": 5,
     "metadata": {},
     "output_type": "execute_result"
    }
   ],
   "source": [
    "lista1[0] # Para identificar um elemento (primeiro) da lista 1."
   ]
  },
  {
   "cell_type": "code",
   "execution_count": 6,
   "id": "d3242b9e",
   "metadata": {},
   "outputs": [
    {
     "data": {
      "text/plain": [
       "3"
      ]
     },
     "execution_count": 6,
     "metadata": {},
     "output_type": "execute_result"
    }
   ],
   "source": [
    "lista1[2]"
   ]
  },
  {
   "cell_type": "code",
   "execution_count": 7,
   "id": "baa703f5",
   "metadata": {},
   "outputs": [
    {
     "data": {
      "text/plain": [
       "[1, 2, 3]"
      ]
     },
     "execution_count": 7,
     "metadata": {},
     "output_type": "execute_result"
    }
   ],
   "source": [
    "lista2[0]"
   ]
  },
  {
   "cell_type": "code",
   "execution_count": 8,
   "id": "4fd65ff1",
   "metadata": {},
   "outputs": [
    {
     "data": {
      "text/plain": [
       "[7, 8, 9]"
      ]
     },
     "execution_count": 8,
     "metadata": {},
     "output_type": "execute_result"
    }
   ],
   "source": [
    "lista2[2]"
   ]
  },
  {
   "cell_type": "code",
   "execution_count": 9,
   "id": "f5be903f",
   "metadata": {},
   "outputs": [
    {
     "data": {
      "text/plain": [
       "3"
      ]
     },
     "execution_count": 9,
     "metadata": {},
     "output_type": "execute_result"
    }
   ],
   "source": [
    "lista2[0][2] # Seleciona o terceiro elemento da primeira lista."
   ]
  },
  {
   "cell_type": "code",
   "execution_count": 11,
   "id": "62f543f5",
   "metadata": {},
   "outputs": [
    {
     "data": {
      "text/plain": [
       "9"
      ]
     },
     "execution_count": 11,
     "metadata": {},
     "output_type": "execute_result"
    }
   ],
   "source": [
    "lista2[2][2]"
   ]
  },
  {
   "cell_type": "code",
   "execution_count": 12,
   "id": "5e8d4286",
   "metadata": {},
   "outputs": [],
   "source": [
    "select = lista2[1][2]"
   ]
  },
  {
   "cell_type": "code",
   "execution_count": 13,
   "id": "1cbfb658",
   "metadata": {},
   "outputs": [
    {
     "name": "stdout",
     "output_type": "stream",
     "text": [
      "6\n"
     ]
    }
   ],
   "source": [
    "print(select)"
   ]
  },
  {
   "cell_type": "code",
   "execution_count": 14,
   "id": "9a3f5f71",
   "metadata": {},
   "outputs": [
    {
     "data": {
      "text/plain": [
       "int"
      ]
     },
     "execution_count": 14,
     "metadata": {},
     "output_type": "execute_result"
    }
   ],
   "source": [
    "type(select)"
   ]
  },
  {
   "cell_type": "code",
   "execution_count": 18,
   "id": "db3feb9c",
   "metadata": {},
   "outputs": [],
   "source": [
    "select = lista2[2]"
   ]
  },
  {
   "cell_type": "code",
   "execution_count": 19,
   "id": "9119b828",
   "metadata": {},
   "outputs": [
    {
     "name": "stdout",
     "output_type": "stream",
     "text": [
      "[7, 8, 9]\n"
     ]
    },
    {
     "data": {
      "text/plain": [
       "list"
      ]
     },
     "execution_count": 19,
     "metadata": {},
     "output_type": "execute_result"
    }
   ],
   "source": [
    "print(select)\n",
    "type(select)"
   ]
  },
  {
   "cell_type": "code",
   "execution_count": 27,
   "id": "1b9327a5",
   "metadata": {},
   "outputs": [
    {
     "name": "stdout",
     "output_type": "stream",
     "text": [
      "A cidade escolhida é: São Paulo\n"
     ]
    }
   ],
   "source": [
    "import random\n",
    "cidades = [\"São Paulo\", \"Rio de Janeiro\", \"Belo Horizonte\", \"Natal\"]\n",
    "escolhida = random.choice(cidades)\n",
    "print(\"A cidade escolhida é:\", escolhida)"
   ]
  },
  {
   "cell_type": "code",
   "execution_count": 28,
   "id": "f7f3cd74",
   "metadata": {},
   "outputs": [],
   "source": [
    "a = [1, 2, 3]"
   ]
  },
  {
   "cell_type": "code",
   "execution_count": 29,
   "id": "c5e18a31",
   "metadata": {},
   "outputs": [],
   "source": [
    "a.append(15) # Comando para adicionar um novo elemento à lista."
   ]
  },
  {
   "cell_type": "code",
   "execution_count": 30,
   "id": "d36d42a6",
   "metadata": {},
   "outputs": [
    {
     "name": "stdout",
     "output_type": "stream",
     "text": [
      "[1, 2, 3, 15]\n"
     ]
    }
   ],
   "source": [
    "print(a)"
   ]
  },
  {
   "cell_type": "code",
   "execution_count": 31,
   "id": "b37adace",
   "metadata": {},
   "outputs": [],
   "source": [
    "b = [7, 8, 9]"
   ]
  },
  {
   "cell_type": "code",
   "execution_count": 32,
   "id": "6e701e7b",
   "metadata": {},
   "outputs": [],
   "source": [
    "for item in b: # Para cada um dos elementos de b...\n",
    "    a.append(item) # Inclui cada elemento de b dentro da lista a."
   ]
  },
  {
   "cell_type": "code",
   "execution_count": 33,
   "id": "20bab8cf",
   "metadata": {},
   "outputs": [
    {
     "name": "stdout",
     "output_type": "stream",
     "text": [
      "[1, 2, 3, 15, 7, 8, 9]\n"
     ]
    }
   ],
   "source": [
    "print(a)"
   ]
  },
  {
   "cell_type": "code",
   "execution_count": 34,
   "id": "86fd0162",
   "metadata": {},
   "outputs": [
    {
     "data": {
      "text/plain": [
       "int"
      ]
     },
     "execution_count": 34,
     "metadata": {},
     "output_type": "execute_result"
    }
   ],
   "source": [
    "# TRANFORMANDO LISTAS FLOAT EM INT\n",
    "num = 8\n",
    "type(num)"
   ]
  },
  {
   "cell_type": "code",
   "execution_count": 35,
   "id": "1d6fca56",
   "metadata": {},
   "outputs": [
    {
     "data": {
      "text/plain": [
       "8.0"
      ]
     },
     "execution_count": 35,
     "metadata": {},
     "output_type": "execute_result"
    }
   ],
   "source": [
    "float(num) # Converte a variável num de inteiro para float."
   ]
  },
  {
   "cell_type": "code",
   "execution_count": 36,
   "id": "08df6ce3",
   "metadata": {},
   "outputs": [
    {
     "data": {
      "text/plain": [
       "float"
      ]
     },
     "execution_count": 36,
     "metadata": {},
     "output_type": "execute_result"
    }
   ],
   "source": [
    "num1 = 3.5\n",
    "type(num1)"
   ]
  },
  {
   "cell_type": "code",
   "execution_count": 37,
   "id": "2feedca1",
   "metadata": {},
   "outputs": [
    {
     "data": {
      "text/plain": [
       "3"
      ]
     },
     "execution_count": 37,
     "metadata": {},
     "output_type": "execute_result"
    }
   ],
   "source": [
    "int(num1) # Converte a variável num1 de float para inteiro."
   ]
  },
  {
   "cell_type": "code",
   "execution_count": 38,
   "id": "f80b5832",
   "metadata": {},
   "outputs": [
    {
     "data": {
      "text/plain": [
       "list"
      ]
     },
     "execution_count": 38,
     "metadata": {},
     "output_type": "execute_result"
    }
   ],
   "source": [
    "x = [2, 4, 10, 6]\n",
    "type(x)"
   ]
  },
  {
   "cell_type": "code",
   "execution_count": 41,
   "id": "47f2032a",
   "metadata": {},
   "outputs": [
    {
     "name": "stdout",
     "output_type": "stream",
     "text": [
      "[2, 4, 10, 6]\n"
     ]
    }
   ],
   "source": [
    "print(x)"
   ]
  },
  {
   "cell_type": "code",
   "execution_count": 44,
   "id": "bf171193",
   "metadata": {},
   "outputs": [],
   "source": [
    "nova = []\n",
    "for item in x: \n",
    "    nova.append(float(item))"
   ]
  },
  {
   "cell_type": "code",
   "execution_count": 45,
   "id": "b38db8c0",
   "metadata": {},
   "outputs": [
    {
     "name": "stdout",
     "output_type": "stream",
     "text": [
      "[2.0, 4.0, 10.0, 6.0]\n"
     ]
    }
   ],
   "source": [
    "print(nova)"
   ]
  },
  {
   "cell_type": "code",
   "execution_count": 1,
   "id": "33593a9d",
   "metadata": {},
   "outputs": [
    {
     "name": "stdout",
     "output_type": "stream",
     "text": [
      "[20, 6, 4]\n"
     ]
    }
   ],
   "source": [
    "# TUPLAS\n",
    "\n",
    "### Ao contrário das listas, as tuplas são colocadas em parênteses.\n",
    "### As tuplas são listas que não podem ser alteradas.\n",
    "\n",
    "lista = [3, 6, 4]\n",
    "lista[0] = 20 # Na lista é possível substituir os valores.\n",
    "print(lista)"
   ]
  },
  {
   "cell_type": "code",
   "execution_count": 2,
   "id": "76b20b26",
   "metadata": {},
   "outputs": [
    {
     "name": "stdout",
     "output_type": "stream",
     "text": [
      "[20, 6]\n"
     ]
    }
   ],
   "source": [
    "del lista[2] # Deleta o item dois da lista.\n",
    "print(lista)"
   ]
  },
  {
   "cell_type": "code",
   "execution_count": 3,
   "id": "b2f860f3",
   "metadata": {},
   "outputs": [
    {
     "ename": "TypeError",
     "evalue": "'tuple' object does not support item assignment",
     "output_type": "error",
     "traceback": [
      "\u001b[1;31m---------------------------------------------------------------------------\u001b[0m",
      "\u001b[1;31mTypeError\u001b[0m                                 Traceback (most recent call last)",
      "Cell \u001b[1;32mIn[3], line 2\u001b[0m\n\u001b[0;32m      1\u001b[0m tupla \u001b[38;5;241m=\u001b[39m (\u001b[38;5;241m5\u001b[39m, \u001b[38;5;241m3\u001b[39m, \u001b[38;5;241m8\u001b[39m)\n\u001b[1;32m----> 2\u001b[0m tupla[\u001b[38;5;241m0\u001b[39m] \u001b[38;5;241m=\u001b[39m \u001b[38;5;241m30\u001b[39m\n\u001b[0;32m      3\u001b[0m \u001b[38;5;28mprint\u001b[39m(tupla)\n",
      "\u001b[1;31mTypeError\u001b[0m: 'tuple' object does not support item assignment"
     ]
    }
   ],
   "source": [
    "tupla = (5, 3, 8)\n",
    "tupla[0] = 30\n",
    "print(tupla) # Retorna uma mensagem de erro informando que o intem não pode ser atribuído."
   ]
  },
  {
   "cell_type": "code",
   "execution_count": 4,
   "id": "55db88e3",
   "metadata": {},
   "outputs": [
    {
     "ename": "TypeError",
     "evalue": "'tuple' object doesn't support item deletion",
     "output_type": "error",
     "traceback": [
      "\u001b[1;31m---------------------------------------------------------------------------\u001b[0m",
      "\u001b[1;31mTypeError\u001b[0m                                 Traceback (most recent call last)",
      "Cell \u001b[1;32mIn[4], line 1\u001b[0m\n\u001b[1;32m----> 1\u001b[0m \u001b[38;5;28;01mdel\u001b[39;00m tupla[\u001b[38;5;241m2\u001b[39m]\n\u001b[0;32m      2\u001b[0m \u001b[38;5;28mprint\u001b[39m(tupla)\n",
      "\u001b[1;31mTypeError\u001b[0m: 'tuple' object doesn't support item deletion"
     ]
    }
   ],
   "source": [
    "del tupla[2]\n",
    "print(tupla) # Retorna mensagem de erro que não é permitido deletar item."
   ]
  },
  {
   "cell_type": "code",
   "execution_count": 5,
   "id": "108cfe84",
   "metadata": {},
   "outputs": [
    {
     "ename": "AttributeError",
     "evalue": "'tuple' object has no attribute 'append'",
     "output_type": "error",
     "traceback": [
      "\u001b[1;31m---------------------------------------------------------------------------\u001b[0m",
      "\u001b[1;31mAttributeError\u001b[0m                            Traceback (most recent call last)",
      "Cell \u001b[1;32mIn[5], line 1\u001b[0m\n\u001b[1;32m----> 1\u001b[0m \u001b[43mtupla\u001b[49m\u001b[38;5;241;43m.\u001b[39;49m\u001b[43mappend\u001b[49m(\u001b[38;5;241m10\u001b[39m)\n\u001b[0;32m      2\u001b[0m \u001b[38;5;28mprint\u001b[39m(tupla)\n",
      "\u001b[1;31mAttributeError\u001b[0m: 'tuple' object has no attribute 'append'"
     ]
    }
   ],
   "source": [
    "tupla.append(10)\n",
    "print(tupla) # Retorna mensagem de que não é permitido adicionar valores à tupla."
   ]
  },
  {
   "cell_type": "code",
   "execution_count": 7,
   "id": "d2f36fa3",
   "metadata": {},
   "outputs": [
    {
     "name": "stdout",
     "output_type": "stream",
     "text": [
      "(20, 6)\n"
     ]
    }
   ],
   "source": [
    "nova_tupla = tuple(lista) # Transforma a lista em tupla.\n",
    "print(nova_tupla)"
   ]
  },
  {
   "cell_type": "code",
   "execution_count": 8,
   "id": "26808464",
   "metadata": {},
   "outputs": [
    {
     "data": {
      "text/plain": [
       "tuple"
      ]
     },
     "execution_count": 8,
     "metadata": {},
     "output_type": "execute_result"
    }
   ],
   "source": [
    "type(nova_tupla)"
   ]
  },
  {
   "cell_type": "code",
   "execution_count": 9,
   "id": "44c15393",
   "metadata": {},
   "outputs": [
    {
     "name": "stdout",
     "output_type": "stream",
     "text": [
      "3\n"
     ]
    },
    {
     "data": {
      "text/plain": [
       "int"
      ]
     },
     "execution_count": 9,
     "metadata": {},
     "output_type": "execute_result"
    }
   ],
   "source": [
    "numero = (3)\n",
    "print(numero)\n",
    "type(numero) # Informa que é um inteiro, pois para ser considerado tupla\n",
    "## deve estar em forma de lista com vígulas entre os itens."
   ]
  },
  {
   "cell_type": "code",
   "execution_count": 10,
   "id": "af97e122",
   "metadata": {},
   "outputs": [
    {
     "data": {
      "text/plain": [
       "'Gratuito'"
      ]
     },
     "execution_count": 10,
     "metadata": {},
     "output_type": "execute_result"
    }
   ],
   "source": [
    "# DICIONÁRIOS\n",
    "\n",
    "### Dicionários são apresentados com notação de chaves.\n",
    "### Exemplo: dicionario = {chave:valor}.\n",
    "\n",
    "dicionario = {'Curso' : 'Python para Machine Learning',\n",
    "             'Produtor' : 'Didática Tech',\n",
    "             'Preço' : 'Gratuito',\n",
    "             'Nota' : 10} # Também podem ser atruídos valores.\n",
    "dicionario['Preço']"
   ]
  },
  {
   "cell_type": "code",
   "execution_count": 12,
   "id": "dd1c1f5d",
   "metadata": {},
   "outputs": [
    {
     "data": {
      "text/plain": [
       "10"
      ]
     },
     "execution_count": 12,
     "metadata": {},
     "output_type": "execute_result"
    }
   ],
   "source": [
    "dicionario['Nota']"
   ]
  },
  {
   "cell_type": "code",
   "execution_count": 13,
   "id": "5256d627",
   "metadata": {},
   "outputs": [
    {
     "name": "stdout",
     "output_type": "stream",
     "text": [
      "Didática Tech\n"
     ]
    }
   ],
   "source": [
    "a = dicionario['Produtor'] # Nova variável a recebe o atributo 'Pordutor' do dicionário.\n",
    "print(a)"
   ]
  },
  {
   "cell_type": "code",
   "execution_count": 14,
   "id": "89303bf7",
   "metadata": {},
   "outputs": [
    {
     "data": {
      "text/plain": [
       "'R$ 100,00'"
      ]
     },
     "execution_count": 14,
     "metadata": {},
     "output_type": "execute_result"
    }
   ],
   "source": [
    "dicionario['Preço'] = 'R$ 100,00'\n",
    "dicionario['Preço']"
   ]
  },
  {
   "cell_type": "code",
   "execution_count": 15,
   "id": "c7a6c9ad",
   "metadata": {},
   "outputs": [
    {
     "name": "stdout",
     "output_type": "stream",
     "text": [
      "{'Curso': 'Python para Machine Learning', 'Produtor': 'Didática Tech', 'Preço': 'R$ 100,00', 'Nota': 10}\n"
     ]
    }
   ],
   "source": [
    "print(dicionario)"
   ]
  },
  {
   "cell_type": "code",
   "execution_count": 17,
   "id": "2a8df999",
   "metadata": {},
   "outputs": [
    {
     "name": "stdout",
     "output_type": "stream",
     "text": [
      "{'Curso': 'Python para Machine Learning', 'Produtor': 'Didática Tech', 'Preço': 'R$ 100,00', 'Nota': 10, 'Pré-requisito': 'Python básico'}\n"
     ]
    }
   ],
   "source": [
    "dicionario['Pré-requisito'] = 'Python básico' # Para adicionar uma nova chave.\n",
    "print(dicionario)"
   ]
  },
  {
   "cell_type": "code",
   "execution_count": 18,
   "id": "4b2eb753",
   "metadata": {},
   "outputs": [
    {
     "data": {
      "text/plain": [
       "dict_keys(['Curso', 'Produtor', 'Preço', 'Nota', 'Pré-requisito'])"
      ]
     },
     "execution_count": 18,
     "metadata": {},
     "output_type": "execute_result"
    }
   ],
   "source": [
    "dicionario.keys()"
   ]
  },
  {
   "cell_type": "code",
   "execution_count": 19,
   "id": "479ba2f0",
   "metadata": {},
   "outputs": [
    {
     "data": {
      "text/plain": [
       "dict_values(['Python para Machine Learning', 'Didática Tech', 'R$ 100,00', 10, 'Python básico'])"
      ]
     },
     "execution_count": 19,
     "metadata": {},
     "output_type": "execute_result"
    }
   ],
   "source": [
    "dicionario.values() # Puxa os valores do dicionário"
   ]
  },
  {
   "cell_type": "code",
   "execution_count": 23,
   "id": "a7e71ab4",
   "metadata": {},
   "outputs": [
    {
     "data": {
      "text/plain": [
       "dict_items([('Curso', 'Python para Machine Learning'), ('Produtor', 'Didática Tech'), ('Preço', 'R$ 100,00'), ('Nota', 10), ('Pré-requisito', 'Python básico')])"
      ]
     },
     "execution_count": 23,
     "metadata": {},
     "output_type": "execute_result"
    }
   ],
   "source": [
    "dicionario.items() # Puxa todas as informações do dicionário."
   ]
  },
  {
   "cell_type": "code",
   "execution_count": 24,
   "id": "eb471894",
   "metadata": {},
   "outputs": [],
   "source": [
    "dicionario.clear() # Apaga todas as informações do dicionário."
   ]
  },
  {
   "cell_type": "code",
   "execution_count": 25,
   "id": "73c1f3d7",
   "metadata": {},
   "outputs": [
    {
     "name": "stdout",
     "output_type": "stream",
     "text": [
      "{}\n"
     ]
    }
   ],
   "source": [
    "print(dicionario)"
   ]
  },
  {
   "cell_type": "code",
   "execution_count": 29,
   "id": "6e2bae76",
   "metadata": {},
   "outputs": [
    {
     "data": {
      "text/plain": [
       "'tou '"
      ]
     },
     "execution_count": 29,
     "metadata": {},
     "output_type": "execute_result"
    }
   ],
   "source": [
    "# MANIPULANDO STRINGS\n",
    "\n",
    "frase = 'Estou gostando do curso.'\n",
    "frase[2:6]"
   ]
  },
  {
   "cell_type": "code",
   "execution_count": 30,
   "id": "f1136392",
   "metadata": {},
   "outputs": [
    {
     "data": {
      "text/plain": [
       "'t'"
      ]
     },
     "execution_count": 30,
     "metadata": {},
     "output_type": "execute_result"
    }
   ],
   "source": [
    "frase[2]"
   ]
  },
  {
   "cell_type": "code",
   "execution_count": 31,
   "id": "15145a76",
   "metadata": {},
   "outputs": [
    {
     "data": {
      "text/plain": [
       "'tan'"
      ]
     },
     "execution_count": 31,
     "metadata": {},
     "output_type": "execute_result"
    }
   ],
   "source": [
    "frase[9:12]"
   ]
  },
  {
   "cell_type": "code",
   "execution_count": 33,
   "id": "b20a84bb",
   "metadata": {},
   "outputs": [
    {
     "data": {
      "text/plain": [
       "'urso.'"
      ]
     },
     "execution_count": 33,
     "metadata": {},
     "output_type": "execute_result"
    }
   ],
   "source": [
    "frase[19:24]"
   ]
  },
  {
   "cell_type": "code",
   "execution_count": 34,
   "id": "c63df7d8",
   "metadata": {},
   "outputs": [
    {
     "data": {
      "text/plain": [
       "'Estou gostando do curso.'"
      ]
     },
     "execution_count": 34,
     "metadata": {},
     "output_type": "execute_result"
    }
   ],
   "source": [
    "frase[0:] # Imprime do primeiro caracter até o último."
   ]
  },
  {
   "cell_type": "code",
   "execution_count": 35,
   "id": "4fba07f4",
   "metadata": {},
   "outputs": [
    {
     "data": {
      "text/plain": [
       "'tugsad'"
      ]
     },
     "execution_count": 35,
     "metadata": {},
     "output_type": "execute_result"
    }
   ],
   "source": [
    "frase[2:13:2] # Puxa da posição 2 até a 13 pulando de 2 em 2."
   ]
  },
  {
   "cell_type": "code",
   "execution_count": 37,
   "id": "5ab20c1d",
   "metadata": {},
   "outputs": [
    {
     "data": {
      "text/plain": [
       "2"
      ]
     },
     "execution_count": 37,
     "metadata": {},
     "output_type": "execute_result"
    }
   ],
   "source": [
    "frase.count('t') # Conta a quantidade de letras 't'."
   ]
  },
  {
   "cell_type": "code",
   "execution_count": 39,
   "id": "a7ff9b37",
   "metadata": {},
   "outputs": [
    {
     "data": {
      "text/plain": [
       "3"
      ]
     },
     "execution_count": 39,
     "metadata": {},
     "output_type": "execute_result"
    }
   ],
   "source": [
    "frase.count(' ') # Conta os espaços."
   ]
  },
  {
   "cell_type": "code",
   "execution_count": 40,
   "id": "5b3987fe",
   "metadata": {},
   "outputs": [
    {
     "data": {
      "text/plain": [
       "24"
      ]
     },
     "execution_count": 40,
     "metadata": {},
     "output_type": "execute_result"
    }
   ],
   "source": [
    "len(frase) # Conta o número de caracteres."
   ]
  },
  {
   "cell_type": "code",
   "execution_count": 41,
   "id": "c6f80948",
   "metadata": {},
   "outputs": [
    {
     "data": {
      "text/plain": [
       "'Extou goxtando do curxo.'"
      ]
     },
     "execution_count": 41,
     "metadata": {},
     "output_type": "execute_result"
    }
   ],
   "source": [
    "frase.replace('s', 'x')"
   ]
  },
  {
   "cell_type": "code",
   "execution_count": 42,
   "id": "ac13e2fb",
   "metadata": {},
   "outputs": [
    {
     "data": {
      "text/plain": [
       "'Estou gostando do aprendizado.'"
      ]
     },
     "execution_count": 42,
     "metadata": {},
     "output_type": "execute_result"
    }
   ],
   "source": [
    "frase.replace('curso', 'aprendizado')"
   ]
  },
  {
   "cell_type": "code",
   "execution_count": 1,
   "id": "752c75f0",
   "metadata": {},
   "outputs": [],
   "source": [
    "# FUNÇÃO LAMBDA\n",
    "\n",
    "### Relembrando os conceitos da criação de funções.\n",
    "\n",
    "def somaQuadrados(a, b): # Define o nome da função e os parâmetros utilizados.\n",
    "    somaQ = a**2 + b**2 # Informa a fórmula da função.\n",
    "    return somaQ # Pede o resultado da função."
   ]
  },
  {
   "cell_type": "code",
   "execution_count": 2,
   "id": "70d8e208",
   "metadata": {},
   "outputs": [
    {
     "data": {
      "text/plain": [
       "65"
      ]
     },
     "execution_count": 2,
     "metadata": {},
     "output_type": "execute_result"
    }
   ],
   "source": [
    "somaQuadrados(4, 7)"
   ]
  },
  {
   "cell_type": "code",
   "execution_count": 3,
   "id": "4590f3ed",
   "metadata": {},
   "outputs": [],
   "source": [
    "### A função lambda cria novas funções, mas de forma resumida.\n",
    "\n",
    "somaQuadrados2 = lambda a, b: a**2 + b**2"
   ]
  },
  {
   "cell_type": "code",
   "execution_count": 4,
   "id": "c3fc7e54",
   "metadata": {},
   "outputs": [
    {
     "data": {
      "text/plain": [
       "29"
      ]
     },
     "execution_count": 4,
     "metadata": {},
     "output_type": "execute_result"
    }
   ],
   "source": [
    "somaQuadrados2(5, 2)"
   ]
  },
  {
   "cell_type": "code",
   "execution_count": 5,
   "id": "6284fb95",
   "metadata": {},
   "outputs": [],
   "source": [
    "calculadoraQuadrado = lambda a: a**2"
   ]
  },
  {
   "cell_type": "code",
   "execution_count": 6,
   "id": "4aeb7cbe",
   "metadata": {},
   "outputs": [
    {
     "data": {
      "text/plain": [
       "16"
      ]
     },
     "execution_count": 6,
     "metadata": {},
     "output_type": "execute_result"
    }
   ],
   "source": [
    "calculadoraQuadrado(4)"
   ]
  },
  {
   "cell_type": "code",
   "execution_count": 7,
   "id": "69feb148",
   "metadata": {},
   "outputs": [],
   "source": [
    "x = lambda f: f/2"
   ]
  },
  {
   "cell_type": "code",
   "execution_count": 8,
   "id": "248f3865",
   "metadata": {},
   "outputs": [
    {
     "data": {
      "text/plain": [
       "4.5"
      ]
     },
     "execution_count": 8,
     "metadata": {},
     "output_type": "execute_result"
    }
   ],
   "source": [
    "x(9)"
   ]
  },
  {
   "cell_type": "code",
   "execution_count": 36,
   "id": "05f36820",
   "metadata": {},
   "outputs": [
    {
     "name": "stdout",
     "output_type": "stream",
     "text": [
      "[24.844720496894407, 31.05590062111801, 34.78260869565217, 39.75155279503105, 45.3416149068323, 49.06832298136646, 52.795031055900616, 59.62732919254658, 62.11180124223602, 74.53416149068323]\n"
     ]
    }
   ],
   "source": [
    "# FUNÇÃO MAP\n",
    "\n",
    "### Da mesma forma do lambda, o map resume o código.\n",
    "\n",
    "kmh = [40, 50, 56, 64,  73, 79, 85, 96, 100, 120] # Lista de velocidades kilometros por hora.\n",
    "\n",
    "mph = [] # Criando lista vazia.\n",
    "for i in kmh: # Para cada item da lista kph...\n",
    "    mph.append(i/1.61) # Adicione os valores na lista vazia divididos por 1.61.\n",
    "print(mph)"
   ]
  },
  {
   "cell_type": "code",
   "execution_count": 37,
   "id": "2516c7c6",
   "metadata": {},
   "outputs": [],
   "source": [
    "myRoundedList = [round(i,2) for i in mph] "
   ]
  },
  {
   "cell_type": "code",
   "execution_count": 28,
   "id": "50b778ab",
   "metadata": {},
   "outputs": [
    {
     "name": "stdout",
     "output_type": "stream",
     "text": [
      "[24.84, 31.06, 34.78, 39.75, 45.34, 49.07, 52.8, 59.63, 62.11, 74.53]\n"
     ]
    }
   ],
   "source": [
    "print(myRoundedList)"
   ]
  },
  {
   "cell_type": "code",
   "execution_count": 40,
   "id": "d4274e7f",
   "metadata": {},
   "outputs": [
    {
     "name": "stdout",
     "output_type": "stream",
     "text": [
      "[24.844720496894407, 31.05590062111801, 34.78260869565217, 39.75155279503105, 45.3416149068323, 49.06832298136646, 52.795031055900616, 59.62732919254658, 62.11180124223602, 74.53416149068323]\n"
     ]
    }
   ],
   "source": [
    "mph2 = list(map(lambda x : x/1.61, kmh)) # Deve ser transformado em uma lista quando usa a função map().\n",
    "print(mph2)"
   ]
  },
  {
   "cell_type": "code",
   "execution_count": 41,
   "id": "a32450f8",
   "metadata": {},
   "outputs": [
    {
     "name": "stdout",
     "output_type": "stream",
     "text": [
      "[24.84, 31.06, 34.78, 39.75, 45.34, 49.07, 52.8, 59.63, 62.11, 74.53]\n"
     ]
    }
   ],
   "source": [
    "myRoundedList2 = [round(i,2) for i in mph2] \n",
    "print(myRoundedList2)"
   ]
  },
  {
   "cell_type": "code",
   "execution_count": 42,
   "id": "182543f6",
   "metadata": {},
   "outputs": [
    {
     "name": "stdout",
     "output_type": "stream",
     "text": [
      "[24.844720496894407, 31.05590062111801, 34.78260869565217, 39.75155279503105, 45.3416149068323, 49.06832298136646, 52.795031055900616, 59.62732919254658, 62.11180124223602, 74.53416149068323]\n"
     ]
    }
   ],
   "source": [
    "# LIST COMPREHENSION\n",
    "\n",
    "### Permite criar funções ainda mais reduzidas.\n",
    "\n",
    "mph3 = [x/1.61 for x in kmh]\n",
    "print(mph3)"
   ]
  },
  {
   "cell_type": "code",
   "execution_count": 43,
   "id": "2cf071d9",
   "metadata": {},
   "outputs": [
    {
     "name": "stdout",
     "output_type": "stream",
     "text": [
      "[24.84, 31.06, 34.78, 39.75, 45.34, 49.07, 52.8, 59.63, 62.11, 74.53]\n"
     ]
    }
   ],
   "source": [
    "myRoundedList3 = [round(i,2) for i in mph3] \n",
    "print(myRoundedList3)"
   ]
  },
  {
   "cell_type": "code",
   "execution_count": 44,
   "id": "a658da63",
   "metadata": {},
   "outputs": [
    {
     "name": "stdout",
     "output_type": "stream",
     "text": [
      "['D', 'i', 'd', 'á', 't', 'i', 'c', 'a', ' ', 'T', 'e', 'c', 'h']\n"
     ]
    }
   ],
   "source": [
    "caracteres = [i for i in \"Didática Tech\"] # Puxa o caractere i para todos os elementos na string \"Didática Tech\".\n",
    "print(caracteres)"
   ]
  },
  {
   "cell_type": "code",
   "execution_count": 1,
   "id": "f1888f4f",
   "metadata": {},
   "outputs": [
    {
     "name": "stdout",
     "output_type": "stream",
     "text": [
      "[1 2 3]\n"
     ]
    }
   ],
   "source": [
    "# Pacote Numpy\n",
    "\n",
    "import numpy\n",
    "a = numpy.array([1, 2, 3]) # Array de uma dimensão.\n",
    "print(a)"
   ]
  },
  {
   "cell_type": "code",
   "execution_count": 4,
   "id": "a927be08",
   "metadata": {},
   "outputs": [
    {
     "name": "stdout",
     "output_type": "stream",
     "text": [
      "[ 1  4  7  3  8 34]\n"
     ]
    }
   ],
   "source": [
    "import numpy as np # Importa o pacote como np para facilitar na escrita dos códigos\n",
    "b = np.array([1, 4, 7, 3, 8, 34])\n",
    "print(b)"
   ]
  },
  {
   "cell_type": "code",
   "execution_count": 5,
   "id": "bb101b4b",
   "metadata": {},
   "outputs": [
    {
     "name": "stdout",
     "output_type": "stream",
     "text": [
      "[[ 2  7  3]\n",
      " [65  2 89]]\n"
     ]
    }
   ],
   "source": [
    "c = np.array([(2, 7, 3), (65, 2, 89)]) # Matriz de 6 elementos.\n",
    "print(c)"
   ]
  },
  {
   "cell_type": "code",
   "execution_count": 6,
   "id": "e62d974b",
   "metadata": {},
   "outputs": [
    {
     "name": "stdout",
     "output_type": "stream",
     "text": [
      "[[2 7 3]\n",
      " [9 2 6]\n",
      " [5 3 2]]\n"
     ]
    }
   ],
   "source": [
    "d = np.array([(2, 7, 3), (9, 2, 6), (5, 3, 2)])\n",
    "print(d)"
   ]
  },
  {
   "cell_type": "code",
   "execution_count": 7,
   "id": "f6d44630",
   "metadata": {},
   "outputs": [
    {
     "name": "stdout",
     "output_type": "stream",
     "text": [
      "[[0. 0. 0.]\n",
      " [0. 0. 0.]\n",
      " [0. 0. 0.]\n",
      " [0. 0. 0.]]\n"
     ]
    }
   ],
   "source": [
    "e = np.zeros((4, 3)) # Cria uma matriz de zeros com dimensão de 4 linhas e 3 colunas\n",
    "print(e)"
   ]
  },
  {
   "cell_type": "code",
   "execution_count": 8,
   "id": "32053189",
   "metadata": {},
   "outputs": [
    {
     "name": "stdout",
     "output_type": "stream",
     "text": [
      "[[1. 1. 1.]\n",
      " [1. 1. 1.]\n",
      " [1. 1. 1.]\n",
      " [1. 1. 1.]]\n"
     ]
    }
   ],
   "source": [
    "f = np.ones((4, 3)) # .array, .zeros e .ones são funções do pacote numpy.\n",
    "print(f)"
   ]
  },
  {
   "cell_type": "code",
   "execution_count": 9,
   "id": "bee98e20",
   "metadata": {},
   "outputs": [
    {
     "name": "stdout",
     "output_type": "stream",
     "text": [
      "[[1. 0. 0. 0. 0.]\n",
      " [0. 1. 0. 0. 0.]\n",
      " [0. 0. 1. 0. 0.]\n",
      " [0. 0. 0. 1. 0.]\n",
      " [0. 0. 0. 0. 1.]]\n"
     ]
    }
   ],
   "source": [
    "g = np.eye(5) # Cria matriz com 5 linhas e 5 colunas com números 1 na diagonal.\n",
    "print(g)"
   ]
  },
  {
   "cell_type": "code",
   "execution_count": 10,
   "id": "9da0f802",
   "metadata": {},
   "outputs": [
    {
     "data": {
      "text/plain": [
       "9"
      ]
     },
     "execution_count": 10,
     "metadata": {},
     "output_type": "execute_result"
    }
   ],
   "source": [
    "d.max() # Informa o maior número da matriz b criada."
   ]
  },
  {
   "cell_type": "code",
   "execution_count": 11,
   "id": "d11c6dfc",
   "metadata": {},
   "outputs": [
    {
     "data": {
      "text/plain": [
       "2"
      ]
     },
     "execution_count": 11,
     "metadata": {},
     "output_type": "execute_result"
    }
   ],
   "source": [
    "d.min()"
   ]
  },
  {
   "cell_type": "code",
   "execution_count": 12,
   "id": "07c10200",
   "metadata": {},
   "outputs": [
    {
     "data": {
      "text/plain": [
       "39"
      ]
     },
     "execution_count": 12,
     "metadata": {},
     "output_type": "execute_result"
    }
   ],
   "source": [
    "d.sum() # Soma todos os elementos da matriz."
   ]
  },
  {
   "cell_type": "code",
   "execution_count": 13,
   "id": "cb26ae1c",
   "metadata": {},
   "outputs": [
    {
     "data": {
      "text/plain": [
       "4.333333333333333"
      ]
     },
     "execution_count": 13,
     "metadata": {},
     "output_type": "execute_result"
    }
   ],
   "source": [
    "d.mean() # Média dos elementos da matriz."
   ]
  },
  {
   "cell_type": "code",
   "execution_count": 14,
   "id": "9c20dfeb",
   "metadata": {},
   "outputs": [
    {
     "data": {
      "text/plain": [
       "2.4037008503093262"
      ]
     },
     "execution_count": 14,
     "metadata": {},
     "output_type": "execute_result"
    }
   ],
   "source": [
    "d.std() # Calcula o desvio padrão."
   ]
  },
  {
   "cell_type": "code",
   "execution_count": 2,
   "id": "df6a7565",
   "metadata": {},
   "outputs": [],
   "source": [
    "# COMO ABRIR ARQUIVOS USANDO O PANDAS\n",
    "\n",
    "import pandas as pd\n",
    "\n",
    "dados = pd.read_excel('C:/Users/jeann/Documents/Python/planilha.xlsx')"
   ]
  },
  {
   "cell_type": "code",
   "execution_count": 3,
   "id": "86cfb0bf",
   "metadata": {},
   "outputs": [
    {
     "data": {
      "text/html": [
       "<div>\n",
       "<style scoped>\n",
       "    .dataframe tbody tr th:only-of-type {\n",
       "        vertical-align: middle;\n",
       "    }\n",
       "\n",
       "    .dataframe tbody tr th {\n",
       "        vertical-align: top;\n",
       "    }\n",
       "\n",
       "    .dataframe thead th {\n",
       "        text-align: right;\n",
       "    }\n",
       "</style>\n",
       "<table border=\"1\" class=\"dataframe\">\n",
       "  <thead>\n",
       "    <tr style=\"text-align: right;\">\n",
       "      <th></th>\n",
       "      <th>numeros</th>\n",
       "      <th>letras</th>\n",
       "    </tr>\n",
       "  </thead>\n",
       "  <tbody>\n",
       "    <tr>\n",
       "      <th>0</th>\n",
       "      <td>1</td>\n",
       "      <td>a</td>\n",
       "    </tr>\n",
       "    <tr>\n",
       "      <th>1</th>\n",
       "      <td>2</td>\n",
       "      <td>b</td>\n",
       "    </tr>\n",
       "    <tr>\n",
       "      <th>2</th>\n",
       "      <td>3</td>\n",
       "      <td>c</td>\n",
       "    </tr>\n",
       "    <tr>\n",
       "      <th>3</th>\n",
       "      <td>4</td>\n",
       "      <td>d</td>\n",
       "    </tr>\n",
       "    <tr>\n",
       "      <th>4</th>\n",
       "      <td>5</td>\n",
       "      <td>e</td>\n",
       "    </tr>\n",
       "  </tbody>\n",
       "</table>\n",
       "</div>"
      ],
      "text/plain": [
       "   numeros letras\n",
       "0        1      a\n",
       "1        2      b\n",
       "2        3      c\n",
       "3        4      d\n",
       "4        5      e"
      ]
     },
     "execution_count": 3,
     "metadata": {},
     "output_type": "execute_result"
    }
   ],
   "source": [
    "dados.head() # Apresenta apenas as primeiras 5 linhas."
   ]
  },
  {
   "cell_type": "code",
   "execution_count": 4,
   "id": "d653c1fe",
   "metadata": {},
   "outputs": [
    {
     "data": {
      "text/html": [
       "<div>\n",
       "<style scoped>\n",
       "    .dataframe tbody tr th:only-of-type {\n",
       "        vertical-align: middle;\n",
       "    }\n",
       "\n",
       "    .dataframe tbody tr th {\n",
       "        vertical-align: top;\n",
       "    }\n",
       "\n",
       "    .dataframe thead th {\n",
       "        text-align: right;\n",
       "    }\n",
       "</style>\n",
       "<table border=\"1\" class=\"dataframe\">\n",
       "  <thead>\n",
       "    <tr style=\"text-align: right;\">\n",
       "      <th></th>\n",
       "      <th>numeros</th>\n",
       "      <th>letras</th>\n",
       "    </tr>\n",
       "  </thead>\n",
       "  <tbody>\n",
       "    <tr>\n",
       "      <th>0</th>\n",
       "      <td>1</td>\n",
       "      <td>a</td>\n",
       "    </tr>\n",
       "    <tr>\n",
       "      <th>1</th>\n",
       "      <td>2</td>\n",
       "      <td>b</td>\n",
       "    </tr>\n",
       "    <tr>\n",
       "      <th>2</th>\n",
       "      <td>3</td>\n",
       "      <td>c</td>\n",
       "    </tr>\n",
       "    <tr>\n",
       "      <th>3</th>\n",
       "      <td>4</td>\n",
       "      <td>d</td>\n",
       "    </tr>\n",
       "    <tr>\n",
       "      <th>4</th>\n",
       "      <td>5</td>\n",
       "      <td>e</td>\n",
       "    </tr>\n",
       "    <tr>\n",
       "      <th>5</th>\n",
       "      <td>6</td>\n",
       "      <td>f</td>\n",
       "    </tr>\n",
       "  </tbody>\n",
       "</table>\n",
       "</div>"
      ],
      "text/plain": [
       "   numeros letras\n",
       "0        1      a\n",
       "1        2      b\n",
       "2        3      c\n",
       "3        4      d\n",
       "4        5      e\n",
       "5        6      f"
      ]
     },
     "execution_count": 4,
     "metadata": {},
     "output_type": "execute_result"
    }
   ],
   "source": [
    "dados.head(7) # Apresenta as 7 linhas."
   ]
  },
  {
   "cell_type": "code",
   "execution_count": 10,
   "id": "454ede12",
   "metadata": {},
   "outputs": [],
   "source": [
    "# Acessar conjunto de dados do Kagle\n",
    "\n",
    "### Conjunto de dados: 120 years of Olympic history: athletes and results\n",
    "\n",
    "dados2 = pd.read_csv('athlete_events.csv') # Abre arquivo em formato csv"
   ]
  },
  {
   "cell_type": "code",
   "execution_count": 11,
   "id": "7a2a43d1",
   "metadata": {},
   "outputs": [
    {
     "data": {
      "text/html": [
       "<div>\n",
       "<style scoped>\n",
       "    .dataframe tbody tr th:only-of-type {\n",
       "        vertical-align: middle;\n",
       "    }\n",
       "\n",
       "    .dataframe tbody tr th {\n",
       "        vertical-align: top;\n",
       "    }\n",
       "\n",
       "    .dataframe thead th {\n",
       "        text-align: right;\n",
       "    }\n",
       "</style>\n",
       "<table border=\"1\" class=\"dataframe\">\n",
       "  <thead>\n",
       "    <tr style=\"text-align: right;\">\n",
       "      <th></th>\n",
       "      <th>ID</th>\n",
       "      <th>Name</th>\n",
       "      <th>Sex</th>\n",
       "      <th>Age</th>\n",
       "      <th>Height</th>\n",
       "      <th>Weight</th>\n",
       "      <th>Team</th>\n",
       "      <th>NOC</th>\n",
       "      <th>Games</th>\n",
       "      <th>Year</th>\n",
       "      <th>Season</th>\n",
       "      <th>City</th>\n",
       "      <th>Sport</th>\n",
       "      <th>Event</th>\n",
       "      <th>Medal</th>\n",
       "    </tr>\n",
       "  </thead>\n",
       "  <tbody>\n",
       "    <tr>\n",
       "      <th>0</th>\n",
       "      <td>1</td>\n",
       "      <td>A Dijiang</td>\n",
       "      <td>M</td>\n",
       "      <td>24.0</td>\n",
       "      <td>180.0</td>\n",
       "      <td>80.0</td>\n",
       "      <td>China</td>\n",
       "      <td>CHN</td>\n",
       "      <td>1992 Summer</td>\n",
       "      <td>1992</td>\n",
       "      <td>Summer</td>\n",
       "      <td>Barcelona</td>\n",
       "      <td>Basketball</td>\n",
       "      <td>Basketball Men's Basketball</td>\n",
       "      <td>NaN</td>\n",
       "    </tr>\n",
       "    <tr>\n",
       "      <th>1</th>\n",
       "      <td>2</td>\n",
       "      <td>A Lamusi</td>\n",
       "      <td>M</td>\n",
       "      <td>23.0</td>\n",
       "      <td>170.0</td>\n",
       "      <td>60.0</td>\n",
       "      <td>China</td>\n",
       "      <td>CHN</td>\n",
       "      <td>2012 Summer</td>\n",
       "      <td>2012</td>\n",
       "      <td>Summer</td>\n",
       "      <td>London</td>\n",
       "      <td>Judo</td>\n",
       "      <td>Judo Men's Extra-Lightweight</td>\n",
       "      <td>NaN</td>\n",
       "    </tr>\n",
       "    <tr>\n",
       "      <th>2</th>\n",
       "      <td>3</td>\n",
       "      <td>Gunnar Nielsen Aaby</td>\n",
       "      <td>M</td>\n",
       "      <td>24.0</td>\n",
       "      <td>NaN</td>\n",
       "      <td>NaN</td>\n",
       "      <td>Denmark</td>\n",
       "      <td>DEN</td>\n",
       "      <td>1920 Summer</td>\n",
       "      <td>1920</td>\n",
       "      <td>Summer</td>\n",
       "      <td>Antwerpen</td>\n",
       "      <td>Football</td>\n",
       "      <td>Football Men's Football</td>\n",
       "      <td>NaN</td>\n",
       "    </tr>\n",
       "    <tr>\n",
       "      <th>3</th>\n",
       "      <td>4</td>\n",
       "      <td>Edgar Lindenau Aabye</td>\n",
       "      <td>M</td>\n",
       "      <td>34.0</td>\n",
       "      <td>NaN</td>\n",
       "      <td>NaN</td>\n",
       "      <td>Denmark/Sweden</td>\n",
       "      <td>DEN</td>\n",
       "      <td>1900 Summer</td>\n",
       "      <td>1900</td>\n",
       "      <td>Summer</td>\n",
       "      <td>Paris</td>\n",
       "      <td>Tug-Of-War</td>\n",
       "      <td>Tug-Of-War Men's Tug-Of-War</td>\n",
       "      <td>Gold</td>\n",
       "    </tr>\n",
       "    <tr>\n",
       "      <th>4</th>\n",
       "      <td>5</td>\n",
       "      <td>Christine Jacoba Aaftink</td>\n",
       "      <td>F</td>\n",
       "      <td>21.0</td>\n",
       "      <td>185.0</td>\n",
       "      <td>82.0</td>\n",
       "      <td>Netherlands</td>\n",
       "      <td>NED</td>\n",
       "      <td>1988 Winter</td>\n",
       "      <td>1988</td>\n",
       "      <td>Winter</td>\n",
       "      <td>Calgary</td>\n",
       "      <td>Speed Skating</td>\n",
       "      <td>Speed Skating Women's 500 metres</td>\n",
       "      <td>NaN</td>\n",
       "    </tr>\n",
       "    <tr>\n",
       "      <th>5</th>\n",
       "      <td>5</td>\n",
       "      <td>Christine Jacoba Aaftink</td>\n",
       "      <td>F</td>\n",
       "      <td>21.0</td>\n",
       "      <td>185.0</td>\n",
       "      <td>82.0</td>\n",
       "      <td>Netherlands</td>\n",
       "      <td>NED</td>\n",
       "      <td>1988 Winter</td>\n",
       "      <td>1988</td>\n",
       "      <td>Winter</td>\n",
       "      <td>Calgary</td>\n",
       "      <td>Speed Skating</td>\n",
       "      <td>Speed Skating Women's 1,000 metres</td>\n",
       "      <td>NaN</td>\n",
       "    </tr>\n",
       "    <tr>\n",
       "      <th>6</th>\n",
       "      <td>5</td>\n",
       "      <td>Christine Jacoba Aaftink</td>\n",
       "      <td>F</td>\n",
       "      <td>25.0</td>\n",
       "      <td>185.0</td>\n",
       "      <td>82.0</td>\n",
       "      <td>Netherlands</td>\n",
       "      <td>NED</td>\n",
       "      <td>1992 Winter</td>\n",
       "      <td>1992</td>\n",
       "      <td>Winter</td>\n",
       "      <td>Albertville</td>\n",
       "      <td>Speed Skating</td>\n",
       "      <td>Speed Skating Women's 500 metres</td>\n",
       "      <td>NaN</td>\n",
       "    </tr>\n",
       "    <tr>\n",
       "      <th>7</th>\n",
       "      <td>5</td>\n",
       "      <td>Christine Jacoba Aaftink</td>\n",
       "      <td>F</td>\n",
       "      <td>25.0</td>\n",
       "      <td>185.0</td>\n",
       "      <td>82.0</td>\n",
       "      <td>Netherlands</td>\n",
       "      <td>NED</td>\n",
       "      <td>1992 Winter</td>\n",
       "      <td>1992</td>\n",
       "      <td>Winter</td>\n",
       "      <td>Albertville</td>\n",
       "      <td>Speed Skating</td>\n",
       "      <td>Speed Skating Women's 1,000 metres</td>\n",
       "      <td>NaN</td>\n",
       "    </tr>\n",
       "    <tr>\n",
       "      <th>8</th>\n",
       "      <td>5</td>\n",
       "      <td>Christine Jacoba Aaftink</td>\n",
       "      <td>F</td>\n",
       "      <td>27.0</td>\n",
       "      <td>185.0</td>\n",
       "      <td>82.0</td>\n",
       "      <td>Netherlands</td>\n",
       "      <td>NED</td>\n",
       "      <td>1994 Winter</td>\n",
       "      <td>1994</td>\n",
       "      <td>Winter</td>\n",
       "      <td>Lillehammer</td>\n",
       "      <td>Speed Skating</td>\n",
       "      <td>Speed Skating Women's 500 metres</td>\n",
       "      <td>NaN</td>\n",
       "    </tr>\n",
       "    <tr>\n",
       "      <th>9</th>\n",
       "      <td>5</td>\n",
       "      <td>Christine Jacoba Aaftink</td>\n",
       "      <td>F</td>\n",
       "      <td>27.0</td>\n",
       "      <td>185.0</td>\n",
       "      <td>82.0</td>\n",
       "      <td>Netherlands</td>\n",
       "      <td>NED</td>\n",
       "      <td>1994 Winter</td>\n",
       "      <td>1994</td>\n",
       "      <td>Winter</td>\n",
       "      <td>Lillehammer</td>\n",
       "      <td>Speed Skating</td>\n",
       "      <td>Speed Skating Women's 1,000 metres</td>\n",
       "      <td>NaN</td>\n",
       "    </tr>\n",
       "  </tbody>\n",
       "</table>\n",
       "</div>"
      ],
      "text/plain": [
       "   ID                      Name Sex   Age  Height  Weight            Team  \\\n",
       "0   1                 A Dijiang   M  24.0   180.0    80.0           China   \n",
       "1   2                  A Lamusi   M  23.0   170.0    60.0           China   \n",
       "2   3       Gunnar Nielsen Aaby   M  24.0     NaN     NaN         Denmark   \n",
       "3   4      Edgar Lindenau Aabye   M  34.0     NaN     NaN  Denmark/Sweden   \n",
       "4   5  Christine Jacoba Aaftink   F  21.0   185.0    82.0     Netherlands   \n",
       "5   5  Christine Jacoba Aaftink   F  21.0   185.0    82.0     Netherlands   \n",
       "6   5  Christine Jacoba Aaftink   F  25.0   185.0    82.0     Netherlands   \n",
       "7   5  Christine Jacoba Aaftink   F  25.0   185.0    82.0     Netherlands   \n",
       "8   5  Christine Jacoba Aaftink   F  27.0   185.0    82.0     Netherlands   \n",
       "9   5  Christine Jacoba Aaftink   F  27.0   185.0    82.0     Netherlands   \n",
       "\n",
       "   NOC        Games  Year  Season         City          Sport  \\\n",
       "0  CHN  1992 Summer  1992  Summer    Barcelona     Basketball   \n",
       "1  CHN  2012 Summer  2012  Summer       London           Judo   \n",
       "2  DEN  1920 Summer  1920  Summer    Antwerpen       Football   \n",
       "3  DEN  1900 Summer  1900  Summer        Paris     Tug-Of-War   \n",
       "4  NED  1988 Winter  1988  Winter      Calgary  Speed Skating   \n",
       "5  NED  1988 Winter  1988  Winter      Calgary  Speed Skating   \n",
       "6  NED  1992 Winter  1992  Winter  Albertville  Speed Skating   \n",
       "7  NED  1992 Winter  1992  Winter  Albertville  Speed Skating   \n",
       "8  NED  1994 Winter  1994  Winter  Lillehammer  Speed Skating   \n",
       "9  NED  1994 Winter  1994  Winter  Lillehammer  Speed Skating   \n",
       "\n",
       "                                Event Medal  \n",
       "0         Basketball Men's Basketball   NaN  \n",
       "1        Judo Men's Extra-Lightweight   NaN  \n",
       "2             Football Men's Football   NaN  \n",
       "3         Tug-Of-War Men's Tug-Of-War  Gold  \n",
       "4    Speed Skating Women's 500 metres   NaN  \n",
       "5  Speed Skating Women's 1,000 metres   NaN  \n",
       "6    Speed Skating Women's 500 metres   NaN  \n",
       "7  Speed Skating Women's 1,000 metres   NaN  \n",
       "8    Speed Skating Women's 500 metres   NaN  \n",
       "9  Speed Skating Women's 1,000 metres   NaN  "
      ]
     },
     "execution_count": 11,
     "metadata": {},
     "output_type": "execute_result"
    }
   ],
   "source": [
    "dados2.head(10)"
   ]
  },
  {
   "cell_type": "code",
   "execution_count": 14,
   "id": "5d064c7b",
   "metadata": {},
   "outputs": [],
   "source": [
    "# INTRODUÇÃO AO PANDAS\n",
    "\n",
    "import pandas as pd\n",
    "\n",
    "alunos = {'Nome': ['Ricardo', 'Pedro', 'Angela', 'Cassia'],\n",
    "         'Nota': [4, 7, 5.5, 9],\n",
    "         'Aprovado': ['Não', 'Sim', 'Não', 'Sim']}"
   ]
  },
  {
   "cell_type": "code",
   "execution_count": 15,
   "id": "c8ea9ef2",
   "metadata": {},
   "outputs": [],
   "source": [
    "### Transformar o dicionário em um data frame\n",
    "\n",
    "dataframe = pd.DataFrame(alunos)"
   ]
  },
  {
   "cell_type": "code",
   "execution_count": 16,
   "id": "abed37f1",
   "metadata": {},
   "outputs": [
    {
     "name": "stdout",
     "output_type": "stream",
     "text": [
      "      Nome  Nota Aprovado\n",
      "0  Ricardo   4.0      Não\n",
      "1    Pedro   7.0      Sim\n",
      "2   Angela   5.5      Não\n",
      "3   Cassia   9.0      Sim\n"
     ]
    }
   ],
   "source": [
    "print(dataframe)"
   ]
  },
  {
   "cell_type": "code",
   "execution_count": 17,
   "id": "46418888",
   "metadata": {},
   "outputs": [
    {
     "name": "stdout",
     "output_type": "stream",
     "text": [
      "0     1\n",
      "1     6\n",
      "2     9\n",
      "3    10\n",
      "4     5\n",
      "dtype: int64\n"
     ]
    }
   ],
   "source": [
    "objeto1 = pd.Series([1, 6, 9, 10, 5])\n",
    "print(objeto1)"
   ]
  },
  {
   "cell_type": "code",
   "execution_count": 19,
   "id": "9390787f",
   "metadata": {},
   "outputs": [
    {
     "name": "stdout",
     "output_type": "stream",
     "text": [
      "[ 1  6  9 10  5]\n"
     ]
    }
   ],
   "source": [
    "import numpy as np\n",
    "array = np.array([1, 6, 9, 10, 5])\n",
    "print(array)"
   ]
  },
  {
   "cell_type": "code",
   "execution_count": 21,
   "id": "ae19369b",
   "metadata": {},
   "outputs": [
    {
     "name": "stdout",
     "output_type": "stream",
     "text": [
      "[[ 1  6  9 10  5]\n",
      " [ 7  4  9 20  8]]\n"
     ]
    }
   ],
   "source": [
    "array2 = np.array([(1, 6, 9, 10, 5), (7, 4, 9, 20, 8)])\n",
    "print(array2)"
   ]
  },
  {
   "cell_type": "code",
   "execution_count": 22,
   "id": "56ed20ec",
   "metadata": {},
   "outputs": [
    {
     "name": "stdout",
     "output_type": "stream",
     "text": [
      "0     1\n",
      "1     6\n",
      "2     9\n",
      "3    10\n",
      "4     5\n",
      "dtype: int32\n"
     ]
    }
   ],
   "source": [
    "# Transformar array em um vetor\n",
    "\n",
    "objeto2 = pd.Series(array) # Muitos dos comandos usados em dataframes também servem para séries.\n",
    "print(objeto2)"
   ]
  },
  {
   "cell_type": "code",
   "execution_count": 6,
   "id": "e9a6b19e",
   "metadata": {},
   "outputs": [
    {
     "name": "stdout",
     "output_type": "stream",
     "text": [
      "      Nome  Nota Aprovado\n",
      "0  Ricardo   4.0      Não\n",
      "1    Pedro   7.0      Sim\n",
      "2   Angela   5.5      Não\n",
      "3   Cassia   9.0      Sim\n"
     ]
    }
   ],
   "source": [
    "# COMANDOS ÚTEIS DO PANDAS\n",
    "\n",
    "import pandas as pd\n",
    "\n",
    "alunos = {'Nome': ['Ricardo', 'Pedro', 'Angela', 'Cassia'],\n",
    "         'Nota': [4, 7, 5.5, 9],\n",
    "         'Aprovado': ['Não', 'Sim', 'Não', 'Sim']}\n",
    "\n",
    "dataframe = pd.DataFrame(alunos)\n",
    "\n",
    "print(dataframe)"
   ]
  },
  {
   "cell_type": "code",
   "execution_count": 7,
   "id": "8d819df1",
   "metadata": {},
   "outputs": [
    {
     "data": {
      "text/html": [
       "<div>\n",
       "<style scoped>\n",
       "    .dataframe tbody tr th:only-of-type {\n",
       "        vertical-align: middle;\n",
       "    }\n",
       "\n",
       "    .dataframe tbody tr th {\n",
       "        vertical-align: top;\n",
       "    }\n",
       "\n",
       "    .dataframe thead th {\n",
       "        text-align: right;\n",
       "    }\n",
       "</style>\n",
       "<table border=\"1\" class=\"dataframe\">\n",
       "  <thead>\n",
       "    <tr style=\"text-align: right;\">\n",
       "      <th></th>\n",
       "      <th>Nome</th>\n",
       "      <th>Nota</th>\n",
       "      <th>Aprovado</th>\n",
       "    </tr>\n",
       "  </thead>\n",
       "  <tbody>\n",
       "    <tr>\n",
       "      <th>0</th>\n",
       "      <td>Ricardo</td>\n",
       "      <td>4.0</td>\n",
       "      <td>Não</td>\n",
       "    </tr>\n",
       "    <tr>\n",
       "      <th>1</th>\n",
       "      <td>Pedro</td>\n",
       "      <td>7.0</td>\n",
       "      <td>Sim</td>\n",
       "    </tr>\n",
       "    <tr>\n",
       "      <th>2</th>\n",
       "      <td>Angela</td>\n",
       "      <td>5.5</td>\n",
       "      <td>Não</td>\n",
       "    </tr>\n",
       "    <tr>\n",
       "      <th>3</th>\n",
       "      <td>Cassia</td>\n",
       "      <td>9.0</td>\n",
       "      <td>Sim</td>\n",
       "    </tr>\n",
       "  </tbody>\n",
       "</table>\n",
       "</div>"
      ],
      "text/plain": [
       "      Nome  Nota Aprovado\n",
       "0  Ricardo   4.0      Não\n",
       "1    Pedro   7.0      Sim\n",
       "2   Angela   5.5      Não\n",
       "3   Cassia   9.0      Sim"
      ]
     },
     "execution_count": 7,
     "metadata": {},
     "output_type": "execute_result"
    }
   ],
   "source": [
    "dataframe.head()"
   ]
  },
  {
   "cell_type": "code",
   "execution_count": 25,
   "id": "910b96f8",
   "metadata": {},
   "outputs": [
    {
     "data": {
      "text/plain": [
       "(4, 3)"
      ]
     },
     "execution_count": 25,
     "metadata": {},
     "output_type": "execute_result"
    }
   ],
   "source": [
    "dataframe.shape # Mostra quantas linhas e colunas o data frame apresenta."
   ]
  },
  {
   "cell_type": "code",
   "execution_count": 26,
   "id": "15404834",
   "metadata": {},
   "outputs": [
    {
     "data": {
      "text/html": [
       "<div>\n",
       "<style scoped>\n",
       "    .dataframe tbody tr th:only-of-type {\n",
       "        vertical-align: middle;\n",
       "    }\n",
       "\n",
       "    .dataframe tbody tr th {\n",
       "        vertical-align: top;\n",
       "    }\n",
       "\n",
       "    .dataframe thead th {\n",
       "        text-align: right;\n",
       "    }\n",
       "</style>\n",
       "<table border=\"1\" class=\"dataframe\">\n",
       "  <thead>\n",
       "    <tr style=\"text-align: right;\">\n",
       "      <th></th>\n",
       "      <th>Nota</th>\n",
       "    </tr>\n",
       "  </thead>\n",
       "  <tbody>\n",
       "    <tr>\n",
       "      <th>count</th>\n",
       "      <td>4.000000</td>\n",
       "    </tr>\n",
       "    <tr>\n",
       "      <th>mean</th>\n",
       "      <td>6.375000</td>\n",
       "    </tr>\n",
       "    <tr>\n",
       "      <th>std</th>\n",
       "      <td>2.136001</td>\n",
       "    </tr>\n",
       "    <tr>\n",
       "      <th>min</th>\n",
       "      <td>4.000000</td>\n",
       "    </tr>\n",
       "    <tr>\n",
       "      <th>25%</th>\n",
       "      <td>5.125000</td>\n",
       "    </tr>\n",
       "    <tr>\n",
       "      <th>50%</th>\n",
       "      <td>6.250000</td>\n",
       "    </tr>\n",
       "    <tr>\n",
       "      <th>75%</th>\n",
       "      <td>7.500000</td>\n",
       "    </tr>\n",
       "    <tr>\n",
       "      <th>max</th>\n",
       "      <td>9.000000</td>\n",
       "    </tr>\n",
       "  </tbody>\n",
       "</table>\n",
       "</div>"
      ],
      "text/plain": [
       "           Nota\n",
       "count  4.000000\n",
       "mean   6.375000\n",
       "std    2.136001\n",
       "min    4.000000\n",
       "25%    5.125000\n",
       "50%    6.250000\n",
       "75%    7.500000\n",
       "max    9.000000"
      ]
     },
     "execution_count": 26,
     "metadata": {},
     "output_type": "execute_result"
    }
   ],
   "source": [
    "dataframe.describe() # Descreve a média, valores máximos e mínimos, desvio padrão e percentis."
   ]
  },
  {
   "cell_type": "code",
   "execution_count": 8,
   "id": "82d9986f",
   "metadata": {},
   "outputs": [
    {
     "name": "stdout",
     "output_type": "stream",
     "text": [
      "      Nome  Nota Aprovado\n",
      "0  Ricardo   4.0      Não\n",
      "1    Pedro   7.0      Sim\n",
      "2   Angela   5.5      Não\n",
      "3   Cassia   9.0      Sim\n"
     ]
    }
   ],
   "source": [
    "# FILTRANDO LINHAS E COLUNAS NO PANDAS\n",
    "\n",
    "import pandas as pd\n",
    "\n",
    "alunos = {'Nome': ['Ricardo', 'Pedro', 'Angela', 'Cassia'],\n",
    "         'Nota': [4, 7, 5.5, 9],\n",
    "         'Aprovado': ['Não', 'Sim', 'Não', 'Sim']}\n",
    "\n",
    "dataframe = pd.DataFrame(alunos)\n",
    "\n",
    "print(dataframe)"
   ]
  },
  {
   "cell_type": "code",
   "execution_count": 9,
   "id": "6bea79bc",
   "metadata": {},
   "outputs": [
    {
     "data": {
      "text/plain": [
       "0    Não\n",
       "1    Sim\n",
       "2    Não\n",
       "3    Sim\n",
       "Name: Aprovado, dtype: object"
      ]
     },
     "execution_count": 9,
     "metadata": {},
     "output_type": "execute_result"
    }
   ],
   "source": [
    "dataframe['Aprovado'] # Filtra a coluna 'Aprovado'."
   ]
  },
  {
   "cell_type": "code",
   "execution_count": 10,
   "id": "5d0a10ac",
   "metadata": {},
   "outputs": [
    {
     "data": {
      "text/html": [
       "<div>\n",
       "<style scoped>\n",
       "    .dataframe tbody tr th:only-of-type {\n",
       "        vertical-align: middle;\n",
       "    }\n",
       "\n",
       "    .dataframe tbody tr th {\n",
       "        vertical-align: top;\n",
       "    }\n",
       "\n",
       "    .dataframe thead th {\n",
       "        text-align: right;\n",
       "    }\n",
       "</style>\n",
       "<table border=\"1\" class=\"dataframe\">\n",
       "  <thead>\n",
       "    <tr style=\"text-align: right;\">\n",
       "      <th></th>\n",
       "      <th>Nome</th>\n",
       "      <th>Nota</th>\n",
       "      <th>Aprovado</th>\n",
       "    </tr>\n",
       "  </thead>\n",
       "  <tbody>\n",
       "    <tr>\n",
       "      <th>0</th>\n",
       "      <td>Ricardo</td>\n",
       "      <td>4.0</td>\n",
       "      <td>Não</td>\n",
       "    </tr>\n",
       "  </tbody>\n",
       "</table>\n",
       "</div>"
      ],
      "text/plain": [
       "      Nome  Nota Aprovado\n",
       "0  Ricardo   4.0      Não"
      ]
     },
     "execution_count": 10,
     "metadata": {},
     "output_type": "execute_result"
    }
   ],
   "source": [
    "dataframe.loc[[0]] # Filtra a linha 0 da tabela."
   ]
  },
  {
   "cell_type": "code",
   "execution_count": 11,
   "id": "20e9ee61",
   "metadata": {},
   "outputs": [
    {
     "data": {
      "text/html": [
       "<div>\n",
       "<style scoped>\n",
       "    .dataframe tbody tr th:only-of-type {\n",
       "        vertical-align: middle;\n",
       "    }\n",
       "\n",
       "    .dataframe tbody tr th {\n",
       "        vertical-align: top;\n",
       "    }\n",
       "\n",
       "    .dataframe thead th {\n",
       "        text-align: right;\n",
       "    }\n",
       "</style>\n",
       "<table border=\"1\" class=\"dataframe\">\n",
       "  <thead>\n",
       "    <tr style=\"text-align: right;\">\n",
       "      <th></th>\n",
       "      <th>Nome</th>\n",
       "      <th>Nota</th>\n",
       "      <th>Aprovado</th>\n",
       "    </tr>\n",
       "  </thead>\n",
       "  <tbody>\n",
       "    <tr>\n",
       "      <th>1</th>\n",
       "      <td>Pedro</td>\n",
       "      <td>7.0</td>\n",
       "      <td>Sim</td>\n",
       "    </tr>\n",
       "  </tbody>\n",
       "</table>\n",
       "</div>"
      ],
      "text/plain": [
       "    Nome  Nota Aprovado\n",
       "1  Pedro   7.0      Sim"
      ]
     },
     "execution_count": 11,
     "metadata": {},
     "output_type": "execute_result"
    }
   ],
   "source": [
    "dataframe.loc[[1]]"
   ]
  },
  {
   "cell_type": "code",
   "execution_count": 12,
   "id": "9597928a",
   "metadata": {},
   "outputs": [
    {
     "data": {
      "text/html": [
       "<div>\n",
       "<style scoped>\n",
       "    .dataframe tbody tr th:only-of-type {\n",
       "        vertical-align: middle;\n",
       "    }\n",
       "\n",
       "    .dataframe tbody tr th {\n",
       "        vertical-align: top;\n",
       "    }\n",
       "\n",
       "    .dataframe thead th {\n",
       "        text-align: right;\n",
       "    }\n",
       "</style>\n",
       "<table border=\"1\" class=\"dataframe\">\n",
       "  <thead>\n",
       "    <tr style=\"text-align: right;\">\n",
       "      <th></th>\n",
       "      <th>Nome</th>\n",
       "      <th>Nota</th>\n",
       "      <th>Aprovado</th>\n",
       "    </tr>\n",
       "  </thead>\n",
       "  <tbody>\n",
       "    <tr>\n",
       "      <th>3</th>\n",
       "      <td>Cassia</td>\n",
       "      <td>9.0</td>\n",
       "      <td>Sim</td>\n",
       "    </tr>\n",
       "  </tbody>\n",
       "</table>\n",
       "</div>"
      ],
      "text/plain": [
       "     Nome  Nota Aprovado\n",
       "3  Cassia   9.0      Sim"
      ]
     },
     "execution_count": 12,
     "metadata": {},
     "output_type": "execute_result"
    }
   ],
   "source": [
    "dataframe.loc[[3]]"
   ]
  },
  {
   "cell_type": "code",
   "execution_count": 13,
   "id": "ebc57f24",
   "metadata": {},
   "outputs": [
    {
     "data": {
      "text/html": [
       "<div>\n",
       "<style scoped>\n",
       "    .dataframe tbody tr th:only-of-type {\n",
       "        vertical-align: middle;\n",
       "    }\n",
       "\n",
       "    .dataframe tbody tr th {\n",
       "        vertical-align: top;\n",
       "    }\n",
       "\n",
       "    .dataframe thead th {\n",
       "        text-align: right;\n",
       "    }\n",
       "</style>\n",
       "<table border=\"1\" class=\"dataframe\">\n",
       "  <thead>\n",
       "    <tr style=\"text-align: right;\">\n",
       "      <th></th>\n",
       "      <th>Nome</th>\n",
       "      <th>Nota</th>\n",
       "      <th>Aprovado</th>\n",
       "    </tr>\n",
       "  </thead>\n",
       "  <tbody>\n",
       "    <tr>\n",
       "      <th>0</th>\n",
       "      <td>Ricardo</td>\n",
       "      <td>4.0</td>\n",
       "      <td>Não</td>\n",
       "    </tr>\n",
       "    <tr>\n",
       "      <th>3</th>\n",
       "      <td>Cassia</td>\n",
       "      <td>9.0</td>\n",
       "      <td>Sim</td>\n",
       "    </tr>\n",
       "  </tbody>\n",
       "</table>\n",
       "</div>"
      ],
      "text/plain": [
       "      Nome  Nota Aprovado\n",
       "0  Ricardo   4.0      Não\n",
       "3   Cassia   9.0      Sim"
      ]
     },
     "execution_count": 13,
     "metadata": {},
     "output_type": "execute_result"
    }
   ],
   "source": [
    "dataframe.loc[[0, 3]]"
   ]
  },
  {
   "cell_type": "code",
   "execution_count": 14,
   "id": "9ba426e0",
   "metadata": {},
   "outputs": [
    {
     "data": {
      "text/html": [
       "<div>\n",
       "<style scoped>\n",
       "    .dataframe tbody tr th:only-of-type {\n",
       "        vertical-align: middle;\n",
       "    }\n",
       "\n",
       "    .dataframe tbody tr th {\n",
       "        vertical-align: top;\n",
       "    }\n",
       "\n",
       "    .dataframe thead th {\n",
       "        text-align: right;\n",
       "    }\n",
       "</style>\n",
       "<table border=\"1\" class=\"dataframe\">\n",
       "  <thead>\n",
       "    <tr style=\"text-align: right;\">\n",
       "      <th></th>\n",
       "      <th>Nome</th>\n",
       "      <th>Nota</th>\n",
       "      <th>Aprovado</th>\n",
       "    </tr>\n",
       "  </thead>\n",
       "  <tbody>\n",
       "    <tr>\n",
       "      <th>0</th>\n",
       "      <td>Ricardo</td>\n",
       "      <td>4.0</td>\n",
       "      <td>Não</td>\n",
       "    </tr>\n",
       "    <tr>\n",
       "      <th>2</th>\n",
       "      <td>Angela</td>\n",
       "      <td>5.5</td>\n",
       "      <td>Não</td>\n",
       "    </tr>\n",
       "    <tr>\n",
       "      <th>3</th>\n",
       "      <td>Cassia</td>\n",
       "      <td>9.0</td>\n",
       "      <td>Sim</td>\n",
       "    </tr>\n",
       "  </tbody>\n",
       "</table>\n",
       "</div>"
      ],
      "text/plain": [
       "      Nome  Nota Aprovado\n",
       "0  Ricardo   4.0      Não\n",
       "2   Angela   5.5      Não\n",
       "3   Cassia   9.0      Sim"
      ]
     },
     "execution_count": 14,
     "metadata": {},
     "output_type": "execute_result"
    }
   ],
   "source": [
    "dataframe.loc[[0, 2, 3]]"
   ]
  },
  {
   "cell_type": "code",
   "execution_count": 16,
   "id": "084ad5dd",
   "metadata": {},
   "outputs": [
    {
     "data": {
      "text/html": [
       "<div>\n",
       "<style scoped>\n",
       "    .dataframe tbody tr th:only-of-type {\n",
       "        vertical-align: middle;\n",
       "    }\n",
       "\n",
       "    .dataframe tbody tr th {\n",
       "        vertical-align: top;\n",
       "    }\n",
       "\n",
       "    .dataframe thead th {\n",
       "        text-align: right;\n",
       "    }\n",
       "</style>\n",
       "<table border=\"1\" class=\"dataframe\">\n",
       "  <thead>\n",
       "    <tr style=\"text-align: right;\">\n",
       "      <th></th>\n",
       "      <th>Nome</th>\n",
       "      <th>Nota</th>\n",
       "      <th>Aprovado</th>\n",
       "    </tr>\n",
       "  </thead>\n",
       "  <tbody>\n",
       "    <tr>\n",
       "      <th>0</th>\n",
       "      <td>Ricardo</td>\n",
       "      <td>4.0</td>\n",
       "      <td>Não</td>\n",
       "    </tr>\n",
       "    <tr>\n",
       "      <th>1</th>\n",
       "      <td>Pedro</td>\n",
       "      <td>7.0</td>\n",
       "      <td>Sim</td>\n",
       "    </tr>\n",
       "    <tr>\n",
       "      <th>2</th>\n",
       "      <td>Angela</td>\n",
       "      <td>5.5</td>\n",
       "      <td>Não</td>\n",
       "    </tr>\n",
       "    <tr>\n",
       "      <th>3</th>\n",
       "      <td>Cassia</td>\n",
       "      <td>9.0</td>\n",
       "      <td>Sim</td>\n",
       "    </tr>\n",
       "  </tbody>\n",
       "</table>\n",
       "</div>"
      ],
      "text/plain": [
       "      Nome  Nota Aprovado\n",
       "0  Ricardo   4.0      Não\n",
       "1    Pedro   7.0      Sim\n",
       "2   Angela   5.5      Não\n",
       "3   Cassia   9.0      Sim"
      ]
     },
     "execution_count": 16,
     "metadata": {},
     "output_type": "execute_result"
    }
   ],
   "source": [
    "dataframe.loc[0:3] # Filtra as linhas do índice 0 ao 3; usa apenas um colchete."
   ]
  },
  {
   "cell_type": "code",
   "execution_count": 17,
   "id": "01285542",
   "metadata": {},
   "outputs": [
    {
     "data": {
      "text/html": [
       "<div>\n",
       "<style scoped>\n",
       "    .dataframe tbody tr th:only-of-type {\n",
       "        vertical-align: middle;\n",
       "    }\n",
       "\n",
       "    .dataframe tbody tr th {\n",
       "        vertical-align: top;\n",
       "    }\n",
       "\n",
       "    .dataframe thead th {\n",
       "        text-align: right;\n",
       "    }\n",
       "</style>\n",
       "<table border=\"1\" class=\"dataframe\">\n",
       "  <thead>\n",
       "    <tr style=\"text-align: right;\">\n",
       "      <th></th>\n",
       "      <th>Nome</th>\n",
       "      <th>Nota</th>\n",
       "      <th>Aprovado</th>\n",
       "    </tr>\n",
       "  </thead>\n",
       "  <tbody>\n",
       "    <tr>\n",
       "      <th>1</th>\n",
       "      <td>Pedro</td>\n",
       "      <td>7.0</td>\n",
       "      <td>Sim</td>\n",
       "    </tr>\n",
       "  </tbody>\n",
       "</table>\n",
       "</div>"
      ],
      "text/plain": [
       "    Nome  Nota Aprovado\n",
       "1  Pedro   7.0      Sim"
      ]
     },
     "execution_count": 17,
     "metadata": {},
     "output_type": "execute_result"
    }
   ],
   "source": [
    "dataframe.loc[dataframe['Nome'] == 'Pedro'] # Filtra a coluna Nome e a linha onde tem Pedro."
   ]
  },
  {
   "cell_type": "code",
   "execution_count": 18,
   "id": "0f187bb0",
   "metadata": {},
   "outputs": [
    {
     "data": {
      "text/html": [
       "<div>\n",
       "<style scoped>\n",
       "    .dataframe tbody tr th:only-of-type {\n",
       "        vertical-align: middle;\n",
       "    }\n",
       "\n",
       "    .dataframe tbody tr th {\n",
       "        vertical-align: top;\n",
       "    }\n",
       "\n",
       "    .dataframe thead th {\n",
       "        text-align: right;\n",
       "    }\n",
       "</style>\n",
       "<table border=\"1\" class=\"dataframe\">\n",
       "  <thead>\n",
       "    <tr style=\"text-align: right;\">\n",
       "      <th></th>\n",
       "      <th>Nome</th>\n",
       "      <th>Nota</th>\n",
       "      <th>Aprovado</th>\n",
       "    </tr>\n",
       "  </thead>\n",
       "  <tbody>\n",
       "    <tr>\n",
       "      <th>1</th>\n",
       "      <td>Pedro</td>\n",
       "      <td>7.0</td>\n",
       "      <td>Sim</td>\n",
       "    </tr>\n",
       "    <tr>\n",
       "      <th>3</th>\n",
       "      <td>Cassia</td>\n",
       "      <td>9.0</td>\n",
       "      <td>Sim</td>\n",
       "    </tr>\n",
       "  </tbody>\n",
       "</table>\n",
       "</div>"
      ],
      "text/plain": [
       "     Nome  Nota Aprovado\n",
       "1   Pedro   7.0      Sim\n",
       "3  Cassia   9.0      Sim"
      ]
     },
     "execution_count": 18,
     "metadata": {},
     "output_type": "execute_result"
    }
   ],
   "source": [
    "dataframe.loc[dataframe['Nota'] >= 7] # Para filtrar notas iguais e acima de 7."
   ]
  },
  {
   "cell_type": "code",
   "execution_count": 19,
   "id": "1aee000b",
   "metadata": {},
   "outputs": [
    {
     "data": {
      "text/html": [
       "<div>\n",
       "<style scoped>\n",
       "    .dataframe tbody tr th:only-of-type {\n",
       "        vertical-align: middle;\n",
       "    }\n",
       "\n",
       "    .dataframe tbody tr th {\n",
       "        vertical-align: top;\n",
       "    }\n",
       "\n",
       "    .dataframe thead th {\n",
       "        text-align: right;\n",
       "    }\n",
       "</style>\n",
       "<table border=\"1\" class=\"dataframe\">\n",
       "  <thead>\n",
       "    <tr style=\"text-align: right;\">\n",
       "      <th></th>\n",
       "      <th>Nome</th>\n",
       "      <th>Nota</th>\n",
       "      <th>Aprovado</th>\n",
       "    </tr>\n",
       "  </thead>\n",
       "  <tbody>\n",
       "    <tr>\n",
       "      <th>0</th>\n",
       "      <td>Ricardo</td>\n",
       "      <td>4.0</td>\n",
       "      <td>Não</td>\n",
       "    </tr>\n",
       "    <tr>\n",
       "      <th>2</th>\n",
       "      <td>Angela</td>\n",
       "      <td>5.5</td>\n",
       "      <td>Não</td>\n",
       "    </tr>\n",
       "  </tbody>\n",
       "</table>\n",
       "</div>"
      ],
      "text/plain": [
       "      Nome  Nota Aprovado\n",
       "0  Ricardo   4.0      Não\n",
       "2   Angela   5.5      Não"
      ]
     },
     "execution_count": 19,
     "metadata": {},
     "output_type": "execute_result"
    }
   ],
   "source": [
    "dataframe.loc[dataframe['Aprovado'] == 'Não'] # Para filtrar alunas não aprovados."
   ]
  },
  {
   "cell_type": "code",
   "execution_count": 20,
   "id": "fa399c63",
   "metadata": {},
   "outputs": [
    {
     "name": "stdout",
     "output_type": "stream",
     "text": [
      "      Nome  Nota Aprovado\n",
      "0  Ricardo   4.0      Não\n",
      "1    Pedro   7.0      Sim\n",
      "2   Angela   5.5      Não\n"
     ]
    }
   ],
   "source": [
    "# MANIPULANDO LINHAS COM O PANDAS\n",
    "\n",
    "primeiraslinhas = dataframe.loc[0:2] # Cria novo dataframe com as primeiras linhas de outro DF.\n",
    "print(primeiraslinhas)"
   ]
  },
  {
   "cell_type": "code",
   "execution_count": 21,
   "id": "c7a5e03b",
   "metadata": {},
   "outputs": [
    {
     "name": "stdout",
     "output_type": "stream",
     "text": [
      "      Nome  Nota Aprovado\n",
      "0  Ricardo   4.0      Não\n",
      "1    Pedro   7.0      Sim\n",
      "2   Angela   5.5      Não\n",
      "3   Cassia   9.0      Sim\n"
     ]
    }
   ],
   "source": [
    "DF_teste = dataframe # Copia do antigo dataframe.\n",
    "print(DF_teste)"
   ]
  },
  {
   "cell_type": "code",
   "execution_count": 22,
   "id": "8de1e1e9",
   "metadata": {},
   "outputs": [
    {
     "name": "stdout",
     "output_type": "stream",
     "text": [
      "     Nome  Nota Aprovado\n",
      "1   Pedro   7.0      Sim\n",
      "3  Cassia   9.0      Sim\n"
     ]
    }
   ],
   "source": [
    "aprovados_DF = dataframe[dataframe['Nota'] >= 7] # Cria nova tabela com essas condições.\n",
    "print(aprovados_DF)"
   ]
  },
  {
   "cell_type": "code",
   "execution_count": 24,
   "id": "3e59374a",
   "metadata": {},
   "outputs": [
    {
     "name": "stdout",
     "output_type": "stream",
     "text": [
      "      Nome  Nota Aprovado\n",
      "0  Ricardo   4.0      Não\n",
      "2   Angela   5.5      Não\n"
     ]
    }
   ],
   "source": [
    "reprovados_DF = dataframe[dataframe['Nota'] < 7] \n",
    "print(reprovados_DF)"
   ]
  },
  {
   "cell_type": "code",
   "execution_count": 25,
   "id": "903e0993",
   "metadata": {},
   "outputs": [
    {
     "name": "stdout",
     "output_type": "stream",
     "text": [
      "      Nome  Nota Aprovado\n",
      "0  Ricardo   4.0      Não\n",
      "2   Angela   5.5      Não\n"
     ]
    }
   ],
   "source": [
    "reprovados_DF2 = dataframe[dataframe['Aprovado'] != 'Sim'] # Filtra linhas diferente de Sim.\n",
    "print(reprovados_DF2)"
   ]
  },
  {
   "cell_type": "code",
   "execution_count": 1,
   "id": "043b8dbb",
   "metadata": {},
   "outputs": [],
   "source": [
    "# MANIPULANDO COLUNAS COM O PANDAS\n",
    "\n",
    "import pandas as pd\n",
    "\n",
    "dados = pd.read_csv('athlete_events.csv')"
   ]
  },
  {
   "cell_type": "code",
   "execution_count": 2,
   "id": "65343000",
   "metadata": {},
   "outputs": [
    {
     "data": {
      "text/html": [
       "<div>\n",
       "<style scoped>\n",
       "    .dataframe tbody tr th:only-of-type {\n",
       "        vertical-align: middle;\n",
       "    }\n",
       "\n",
       "    .dataframe tbody tr th {\n",
       "        vertical-align: top;\n",
       "    }\n",
       "\n",
       "    .dataframe thead th {\n",
       "        text-align: right;\n",
       "    }\n",
       "</style>\n",
       "<table border=\"1\" class=\"dataframe\">\n",
       "  <thead>\n",
       "    <tr style=\"text-align: right;\">\n",
       "      <th></th>\n",
       "      <th>ID</th>\n",
       "      <th>Name</th>\n",
       "      <th>Sex</th>\n",
       "      <th>Age</th>\n",
       "      <th>Height</th>\n",
       "      <th>Weight</th>\n",
       "      <th>Team</th>\n",
       "      <th>NOC</th>\n",
       "      <th>Games</th>\n",
       "      <th>Year</th>\n",
       "      <th>Season</th>\n",
       "      <th>City</th>\n",
       "      <th>Sport</th>\n",
       "      <th>Event</th>\n",
       "      <th>Medal</th>\n",
       "    </tr>\n",
       "  </thead>\n",
       "  <tbody>\n",
       "    <tr>\n",
       "      <th>0</th>\n",
       "      <td>1</td>\n",
       "      <td>A Dijiang</td>\n",
       "      <td>M</td>\n",
       "      <td>24.0</td>\n",
       "      <td>180.0</td>\n",
       "      <td>80.0</td>\n",
       "      <td>China</td>\n",
       "      <td>CHN</td>\n",
       "      <td>1992 Summer</td>\n",
       "      <td>1992</td>\n",
       "      <td>Summer</td>\n",
       "      <td>Barcelona</td>\n",
       "      <td>Basketball</td>\n",
       "      <td>Basketball Men's Basketball</td>\n",
       "      <td>NaN</td>\n",
       "    </tr>\n",
       "    <tr>\n",
       "      <th>1</th>\n",
       "      <td>2</td>\n",
       "      <td>A Lamusi</td>\n",
       "      <td>M</td>\n",
       "      <td>23.0</td>\n",
       "      <td>170.0</td>\n",
       "      <td>60.0</td>\n",
       "      <td>China</td>\n",
       "      <td>CHN</td>\n",
       "      <td>2012 Summer</td>\n",
       "      <td>2012</td>\n",
       "      <td>Summer</td>\n",
       "      <td>London</td>\n",
       "      <td>Judo</td>\n",
       "      <td>Judo Men's Extra-Lightweight</td>\n",
       "      <td>NaN</td>\n",
       "    </tr>\n",
       "    <tr>\n",
       "      <th>2</th>\n",
       "      <td>3</td>\n",
       "      <td>Gunnar Nielsen Aaby</td>\n",
       "      <td>M</td>\n",
       "      <td>24.0</td>\n",
       "      <td>NaN</td>\n",
       "      <td>NaN</td>\n",
       "      <td>Denmark</td>\n",
       "      <td>DEN</td>\n",
       "      <td>1920 Summer</td>\n",
       "      <td>1920</td>\n",
       "      <td>Summer</td>\n",
       "      <td>Antwerpen</td>\n",
       "      <td>Football</td>\n",
       "      <td>Football Men's Football</td>\n",
       "      <td>NaN</td>\n",
       "    </tr>\n",
       "    <tr>\n",
       "      <th>3</th>\n",
       "      <td>4</td>\n",
       "      <td>Edgar Lindenau Aabye</td>\n",
       "      <td>M</td>\n",
       "      <td>34.0</td>\n",
       "      <td>NaN</td>\n",
       "      <td>NaN</td>\n",
       "      <td>Denmark/Sweden</td>\n",
       "      <td>DEN</td>\n",
       "      <td>1900 Summer</td>\n",
       "      <td>1900</td>\n",
       "      <td>Summer</td>\n",
       "      <td>Paris</td>\n",
       "      <td>Tug-Of-War</td>\n",
       "      <td>Tug-Of-War Men's Tug-Of-War</td>\n",
       "      <td>Gold</td>\n",
       "    </tr>\n",
       "    <tr>\n",
       "      <th>4</th>\n",
       "      <td>5</td>\n",
       "      <td>Christine Jacoba Aaftink</td>\n",
       "      <td>F</td>\n",
       "      <td>21.0</td>\n",
       "      <td>185.0</td>\n",
       "      <td>82.0</td>\n",
       "      <td>Netherlands</td>\n",
       "      <td>NED</td>\n",
       "      <td>1988 Winter</td>\n",
       "      <td>1988</td>\n",
       "      <td>Winter</td>\n",
       "      <td>Calgary</td>\n",
       "      <td>Speed Skating</td>\n",
       "      <td>Speed Skating Women's 500 metres</td>\n",
       "      <td>NaN</td>\n",
       "    </tr>\n",
       "    <tr>\n",
       "      <th>5</th>\n",
       "      <td>5</td>\n",
       "      <td>Christine Jacoba Aaftink</td>\n",
       "      <td>F</td>\n",
       "      <td>21.0</td>\n",
       "      <td>185.0</td>\n",
       "      <td>82.0</td>\n",
       "      <td>Netherlands</td>\n",
       "      <td>NED</td>\n",
       "      <td>1988 Winter</td>\n",
       "      <td>1988</td>\n",
       "      <td>Winter</td>\n",
       "      <td>Calgary</td>\n",
       "      <td>Speed Skating</td>\n",
       "      <td>Speed Skating Women's 1,000 metres</td>\n",
       "      <td>NaN</td>\n",
       "    </tr>\n",
       "    <tr>\n",
       "      <th>6</th>\n",
       "      <td>5</td>\n",
       "      <td>Christine Jacoba Aaftink</td>\n",
       "      <td>F</td>\n",
       "      <td>25.0</td>\n",
       "      <td>185.0</td>\n",
       "      <td>82.0</td>\n",
       "      <td>Netherlands</td>\n",
       "      <td>NED</td>\n",
       "      <td>1992 Winter</td>\n",
       "      <td>1992</td>\n",
       "      <td>Winter</td>\n",
       "      <td>Albertville</td>\n",
       "      <td>Speed Skating</td>\n",
       "      <td>Speed Skating Women's 500 metres</td>\n",
       "      <td>NaN</td>\n",
       "    </tr>\n",
       "    <tr>\n",
       "      <th>7</th>\n",
       "      <td>5</td>\n",
       "      <td>Christine Jacoba Aaftink</td>\n",
       "      <td>F</td>\n",
       "      <td>25.0</td>\n",
       "      <td>185.0</td>\n",
       "      <td>82.0</td>\n",
       "      <td>Netherlands</td>\n",
       "      <td>NED</td>\n",
       "      <td>1992 Winter</td>\n",
       "      <td>1992</td>\n",
       "      <td>Winter</td>\n",
       "      <td>Albertville</td>\n",
       "      <td>Speed Skating</td>\n",
       "      <td>Speed Skating Women's 1,000 metres</td>\n",
       "      <td>NaN</td>\n",
       "    </tr>\n",
       "  </tbody>\n",
       "</table>\n",
       "</div>"
      ],
      "text/plain": [
       "   ID                      Name Sex   Age  Height  Weight            Team  \\\n",
       "0   1                 A Dijiang   M  24.0   180.0    80.0           China   \n",
       "1   2                  A Lamusi   M  23.0   170.0    60.0           China   \n",
       "2   3       Gunnar Nielsen Aaby   M  24.0     NaN     NaN         Denmark   \n",
       "3   4      Edgar Lindenau Aabye   M  34.0     NaN     NaN  Denmark/Sweden   \n",
       "4   5  Christine Jacoba Aaftink   F  21.0   185.0    82.0     Netherlands   \n",
       "5   5  Christine Jacoba Aaftink   F  21.0   185.0    82.0     Netherlands   \n",
       "6   5  Christine Jacoba Aaftink   F  25.0   185.0    82.0     Netherlands   \n",
       "7   5  Christine Jacoba Aaftink   F  25.0   185.0    82.0     Netherlands   \n",
       "\n",
       "   NOC        Games  Year  Season         City          Sport  \\\n",
       "0  CHN  1992 Summer  1992  Summer    Barcelona     Basketball   \n",
       "1  CHN  2012 Summer  2012  Summer       London           Judo   \n",
       "2  DEN  1920 Summer  1920  Summer    Antwerpen       Football   \n",
       "3  DEN  1900 Summer  1900  Summer        Paris     Tug-Of-War   \n",
       "4  NED  1988 Winter  1988  Winter      Calgary  Speed Skating   \n",
       "5  NED  1988 Winter  1988  Winter      Calgary  Speed Skating   \n",
       "6  NED  1992 Winter  1992  Winter  Albertville  Speed Skating   \n",
       "7  NED  1992 Winter  1992  Winter  Albertville  Speed Skating   \n",
       "\n",
       "                                Event Medal  \n",
       "0         Basketball Men's Basketball   NaN  \n",
       "1        Judo Men's Extra-Lightweight   NaN  \n",
       "2             Football Men's Football   NaN  \n",
       "3         Tug-Of-War Men's Tug-Of-War  Gold  \n",
       "4    Speed Skating Women's 500 metres   NaN  \n",
       "5  Speed Skating Women's 1,000 metres   NaN  \n",
       "6    Speed Skating Women's 500 metres   NaN  \n",
       "7  Speed Skating Women's 1,000 metres   NaN  "
      ]
     },
     "execution_count": 2,
     "metadata": {},
     "output_type": "execute_result"
    }
   ],
   "source": [
    "dados.head(8)"
   ]
  },
  {
   "cell_type": "code",
   "execution_count": 52,
   "id": "bf7ce3b7",
   "metadata": {},
   "outputs": [
    {
     "data": {
      "text/html": [
       "<div>\n",
       "<style scoped>\n",
       "    .dataframe tbody tr th:only-of-type {\n",
       "        vertical-align: middle;\n",
       "    }\n",
       "\n",
       "    .dataframe tbody tr th {\n",
       "        vertical-align: top;\n",
       "    }\n",
       "\n",
       "    .dataframe thead th {\n",
       "        text-align: right;\n",
       "    }\n",
       "</style>\n",
       "<table border=\"1\" class=\"dataframe\">\n",
       "  <thead>\n",
       "    <tr style=\"text-align: right;\">\n",
       "      <th></th>\n",
       "      <th>ID</th>\n",
       "      <th>Nome</th>\n",
       "      <th>Sexo</th>\n",
       "      <th>Idade</th>\n",
       "      <th>Height</th>\n",
       "      <th>Weight</th>\n",
       "      <th>Team</th>\n",
       "      <th>NOC</th>\n",
       "      <th>Games</th>\n",
       "      <th>Year</th>\n",
       "      <th>Season</th>\n",
       "      <th>City</th>\n",
       "      <th>Sport</th>\n",
       "      <th>Event</th>\n",
       "      <th>Medal</th>\n",
       "    </tr>\n",
       "  </thead>\n",
       "  <tbody>\n",
       "    <tr>\n",
       "      <th>0</th>\n",
       "      <td>1</td>\n",
       "      <td>A Dijiang</td>\n",
       "      <td>M</td>\n",
       "      <td>24.0</td>\n",
       "      <td>180.0</td>\n",
       "      <td>80.0</td>\n",
       "      <td>China</td>\n",
       "      <td>CHN</td>\n",
       "      <td>1992 Summer</td>\n",
       "      <td>1992</td>\n",
       "      <td>Summer</td>\n",
       "      <td>Barcelona</td>\n",
       "      <td>Basketball</td>\n",
       "      <td>Basketball Men's Basketball</td>\n",
       "      <td>NaN</td>\n",
       "    </tr>\n",
       "    <tr>\n",
       "      <th>1</th>\n",
       "      <td>2</td>\n",
       "      <td>A Lamusi</td>\n",
       "      <td>M</td>\n",
       "      <td>23.0</td>\n",
       "      <td>170.0</td>\n",
       "      <td>60.0</td>\n",
       "      <td>China</td>\n",
       "      <td>CHN</td>\n",
       "      <td>2012 Summer</td>\n",
       "      <td>2012</td>\n",
       "      <td>Summer</td>\n",
       "      <td>London</td>\n",
       "      <td>Judo</td>\n",
       "      <td>Judo Men's Extra-Lightweight</td>\n",
       "      <td>NaN</td>\n",
       "    </tr>\n",
       "    <tr>\n",
       "      <th>2</th>\n",
       "      <td>3</td>\n",
       "      <td>Gunnar Nielsen Aaby</td>\n",
       "      <td>M</td>\n",
       "      <td>24.0</td>\n",
       "      <td>NaN</td>\n",
       "      <td>NaN</td>\n",
       "      <td>Denmark</td>\n",
       "      <td>DEN</td>\n",
       "      <td>1920 Summer</td>\n",
       "      <td>1920</td>\n",
       "      <td>Summer</td>\n",
       "      <td>Antwerpen</td>\n",
       "      <td>Football</td>\n",
       "      <td>Football Men's Football</td>\n",
       "      <td>NaN</td>\n",
       "    </tr>\n",
       "    <tr>\n",
       "      <th>3</th>\n",
       "      <td>4</td>\n",
       "      <td>Edgar Lindenau Aabye</td>\n",
       "      <td>M</td>\n",
       "      <td>34.0</td>\n",
       "      <td>NaN</td>\n",
       "      <td>NaN</td>\n",
       "      <td>Denmark/Sweden</td>\n",
       "      <td>DEN</td>\n",
       "      <td>1900 Summer</td>\n",
       "      <td>1900</td>\n",
       "      <td>Summer</td>\n",
       "      <td>Paris</td>\n",
       "      <td>Tug-Of-War</td>\n",
       "      <td>Tug-Of-War Men's Tug-Of-War</td>\n",
       "      <td>Gold</td>\n",
       "    </tr>\n",
       "    <tr>\n",
       "      <th>4</th>\n",
       "      <td>5</td>\n",
       "      <td>Christine Jacoba Aaftink</td>\n",
       "      <td>F</td>\n",
       "      <td>21.0</td>\n",
       "      <td>185.0</td>\n",
       "      <td>82.0</td>\n",
       "      <td>Netherlands</td>\n",
       "      <td>NED</td>\n",
       "      <td>1988 Winter</td>\n",
       "      <td>1988</td>\n",
       "      <td>Winter</td>\n",
       "      <td>Calgary</td>\n",
       "      <td>Speed Skating</td>\n",
       "      <td>Speed Skating Women's 500 metres</td>\n",
       "      <td>NaN</td>\n",
       "    </tr>\n",
       "    <tr>\n",
       "      <th>...</th>\n",
       "      <td>...</td>\n",
       "      <td>...</td>\n",
       "      <td>...</td>\n",
       "      <td>...</td>\n",
       "      <td>...</td>\n",
       "      <td>...</td>\n",
       "      <td>...</td>\n",
       "      <td>...</td>\n",
       "      <td>...</td>\n",
       "      <td>...</td>\n",
       "      <td>...</td>\n",
       "      <td>...</td>\n",
       "      <td>...</td>\n",
       "      <td>...</td>\n",
       "      <td>...</td>\n",
       "    </tr>\n",
       "    <tr>\n",
       "      <th>271111</th>\n",
       "      <td>135569</td>\n",
       "      <td>Andrzej ya</td>\n",
       "      <td>M</td>\n",
       "      <td>29.0</td>\n",
       "      <td>179.0</td>\n",
       "      <td>89.0</td>\n",
       "      <td>Poland-1</td>\n",
       "      <td>POL</td>\n",
       "      <td>1976 Winter</td>\n",
       "      <td>1976</td>\n",
       "      <td>Winter</td>\n",
       "      <td>Innsbruck</td>\n",
       "      <td>Luge</td>\n",
       "      <td>Luge Mixed (Men)'s Doubles</td>\n",
       "      <td>NaN</td>\n",
       "    </tr>\n",
       "    <tr>\n",
       "      <th>271112</th>\n",
       "      <td>135570</td>\n",
       "      <td>Piotr ya</td>\n",
       "      <td>M</td>\n",
       "      <td>27.0</td>\n",
       "      <td>176.0</td>\n",
       "      <td>59.0</td>\n",
       "      <td>Poland</td>\n",
       "      <td>POL</td>\n",
       "      <td>2014 Winter</td>\n",
       "      <td>2014</td>\n",
       "      <td>Winter</td>\n",
       "      <td>Sochi</td>\n",
       "      <td>Ski Jumping</td>\n",
       "      <td>Ski Jumping Men's Large Hill, Individual</td>\n",
       "      <td>NaN</td>\n",
       "    </tr>\n",
       "    <tr>\n",
       "      <th>271113</th>\n",
       "      <td>135570</td>\n",
       "      <td>Piotr ya</td>\n",
       "      <td>M</td>\n",
       "      <td>27.0</td>\n",
       "      <td>176.0</td>\n",
       "      <td>59.0</td>\n",
       "      <td>Poland</td>\n",
       "      <td>POL</td>\n",
       "      <td>2014 Winter</td>\n",
       "      <td>2014</td>\n",
       "      <td>Winter</td>\n",
       "      <td>Sochi</td>\n",
       "      <td>Ski Jumping</td>\n",
       "      <td>Ski Jumping Men's Large Hill, Team</td>\n",
       "      <td>NaN</td>\n",
       "    </tr>\n",
       "    <tr>\n",
       "      <th>271114</th>\n",
       "      <td>135571</td>\n",
       "      <td>Tomasz Ireneusz ya</td>\n",
       "      <td>M</td>\n",
       "      <td>30.0</td>\n",
       "      <td>185.0</td>\n",
       "      <td>96.0</td>\n",
       "      <td>Poland</td>\n",
       "      <td>POL</td>\n",
       "      <td>1998 Winter</td>\n",
       "      <td>1998</td>\n",
       "      <td>Winter</td>\n",
       "      <td>Nagano</td>\n",
       "      <td>Bobsleigh</td>\n",
       "      <td>Bobsleigh Men's Four</td>\n",
       "      <td>NaN</td>\n",
       "    </tr>\n",
       "    <tr>\n",
       "      <th>271115</th>\n",
       "      <td>135571</td>\n",
       "      <td>Tomasz Ireneusz ya</td>\n",
       "      <td>M</td>\n",
       "      <td>34.0</td>\n",
       "      <td>185.0</td>\n",
       "      <td>96.0</td>\n",
       "      <td>Poland</td>\n",
       "      <td>POL</td>\n",
       "      <td>2002 Winter</td>\n",
       "      <td>2002</td>\n",
       "      <td>Winter</td>\n",
       "      <td>Salt Lake City</td>\n",
       "      <td>Bobsleigh</td>\n",
       "      <td>Bobsleigh Men's Four</td>\n",
       "      <td>NaN</td>\n",
       "    </tr>\n",
       "  </tbody>\n",
       "</table>\n",
       "<p>271116 rows × 15 columns</p>\n",
       "</div>"
      ],
      "text/plain": [
       "            ID                      Nome Sexo  Idade  Height  Weight  \\\n",
       "0            1                 A Dijiang    M   24.0   180.0    80.0   \n",
       "1            2                  A Lamusi    M   23.0   170.0    60.0   \n",
       "2            3       Gunnar Nielsen Aaby    M   24.0     NaN     NaN   \n",
       "3            4      Edgar Lindenau Aabye    M   34.0     NaN     NaN   \n",
       "4            5  Christine Jacoba Aaftink    F   21.0   185.0    82.0   \n",
       "...        ...                       ...  ...    ...     ...     ...   \n",
       "271111  135569                Andrzej ya    M   29.0   179.0    89.0   \n",
       "271112  135570                  Piotr ya    M   27.0   176.0    59.0   \n",
       "271113  135570                  Piotr ya    M   27.0   176.0    59.0   \n",
       "271114  135571        Tomasz Ireneusz ya    M   30.0   185.0    96.0   \n",
       "271115  135571        Tomasz Ireneusz ya    M   34.0   185.0    96.0   \n",
       "\n",
       "                  Team  NOC        Games  Year  Season            City  \\\n",
       "0                China  CHN  1992 Summer  1992  Summer       Barcelona   \n",
       "1                China  CHN  2012 Summer  2012  Summer          London   \n",
       "2              Denmark  DEN  1920 Summer  1920  Summer       Antwerpen   \n",
       "3       Denmark/Sweden  DEN  1900 Summer  1900  Summer           Paris   \n",
       "4          Netherlands  NED  1988 Winter  1988  Winter         Calgary   \n",
       "...                ...  ...          ...   ...     ...             ...   \n",
       "271111        Poland-1  POL  1976 Winter  1976  Winter       Innsbruck   \n",
       "271112          Poland  POL  2014 Winter  2014  Winter           Sochi   \n",
       "271113          Poland  POL  2014 Winter  2014  Winter           Sochi   \n",
       "271114          Poland  POL  1998 Winter  1998  Winter          Nagano   \n",
       "271115          Poland  POL  2002 Winter  2002  Winter  Salt Lake City   \n",
       "\n",
       "                Sport                                     Event Medal  \n",
       "0          Basketball               Basketball Men's Basketball   NaN  \n",
       "1                Judo              Judo Men's Extra-Lightweight   NaN  \n",
       "2            Football                   Football Men's Football   NaN  \n",
       "3          Tug-Of-War               Tug-Of-War Men's Tug-Of-War  Gold  \n",
       "4       Speed Skating          Speed Skating Women's 500 metres   NaN  \n",
       "...               ...                                       ...   ...  \n",
       "271111           Luge                Luge Mixed (Men)'s Doubles   NaN  \n",
       "271112    Ski Jumping  Ski Jumping Men's Large Hill, Individual   NaN  \n",
       "271113    Ski Jumping        Ski Jumping Men's Large Hill, Team   NaN  \n",
       "271114      Bobsleigh                      Bobsleigh Men's Four   NaN  \n",
       "271115      Bobsleigh                      Bobsleigh Men's Four   NaN  \n",
       "\n",
       "[271116 rows x 15 columns]"
      ]
     },
     "execution_count": 52,
     "metadata": {},
     "output_type": "execute_result"
    }
   ],
   "source": [
    "dados.rename(columns = {'Name':'Nome', 'Sex':'Sexo', 'Age':'Idade'}) # Renomear colunas."
   ]
  },
  {
   "cell_type": "code",
   "execution_count": 53,
   "id": "b8cff890",
   "metadata": {},
   "outputs": [],
   "source": [
    "dados.rename(columns = {'Name':'Nome', 'Sex':'Sexo', 'Age':'Idade'}, inplace = True) # Inplace para não imprimir a tabela.\n",
    "# Isso facilita de fazer as modificações."
   ]
  },
  {
   "cell_type": "code",
   "execution_count": 54,
   "id": "78de2461",
   "metadata": {},
   "outputs": [],
   "source": [
    "altura = dados['Height']"
   ]
  },
  {
   "cell_type": "code",
   "execution_count": 31,
   "id": "ff84cc29",
   "metadata": {},
   "outputs": [
    {
     "name": "stdout",
     "output_type": "stream",
     "text": [
      "0         180.0\n",
      "1         170.0\n",
      "2           NaN\n",
      "3           NaN\n",
      "4         185.0\n",
      "          ...  \n",
      "271111    179.0\n",
      "271112    176.0\n",
      "271113    176.0\n",
      "271114    185.0\n",
      "271115    185.0\n",
      "Name: Height, Length: 271116, dtype: float64\n"
     ]
    }
   ],
   "source": [
    "print(altura)"
   ]
  },
  {
   "cell_type": "code",
   "execution_count": 32,
   "id": "9bcef4c6",
   "metadata": {},
   "outputs": [
    {
     "data": {
      "text/plain": [
       "pandas.core.series.Series"
      ]
     },
     "execution_count": 32,
     "metadata": {},
     "output_type": "execute_result"
    }
   ],
   "source": [
    "type(altura)"
   ]
  },
  {
   "cell_type": "code",
   "execution_count": 55,
   "id": "ed5ec011",
   "metadata": {},
   "outputs": [
    {
     "data": {
      "text/plain": [
       "Gold      13372\n",
       "Bronze    13295\n",
       "Silver    13116\n",
       "Name: Medal, dtype: int64"
      ]
     },
     "execution_count": 55,
     "metadata": {},
     "output_type": "execute_result"
    }
   ],
   "source": [
    "dados['Medal'].value_counts() # Contabiliza quantas vezes aparece cada tipo de medalha."
   ]
  },
  {
   "cell_type": "code",
   "execution_count": 56,
   "id": "0eb1801f",
   "metadata": {},
   "outputs": [
    {
     "data": {
      "text/plain": [
       "London                    22426\n",
       "Athina                    15556\n",
       "Sydney                    13821\n",
       "Atlanta                   13780\n",
       "Rio de Janeiro            13688\n",
       "Beijing                   13602\n",
       "Barcelona                 12977\n",
       "Los Angeles               12423\n",
       "Seoul                     12037\n",
       "Munich                    10304\n",
       "Montreal                   8641\n",
       "Mexico City                8588\n",
       "Helsinki                   8270\n",
       "Roma                       8119\n",
       "Tokyo                      7702\n",
       "Moskva                     7191\n",
       "Paris                      7169\n",
       "Berlin                     6506\n",
       "Amsterdam                  4992\n",
       "Sochi                      4891\n",
       "Melbourne                  4829\n",
       "Vancouver                  4402\n",
       "Torino                     4382\n",
       "Stockholm                  4338\n",
       "Antwerpen                  4292\n",
       "Salt Lake City             4109\n",
       "Innsbruck                  3639\n",
       "Nagano                     3605\n",
       "Albertville                3436\n",
       "Lillehammer                3160\n",
       "Calgary                    2639\n",
       "Sarajevo                   2134\n",
       "Lake Placid                2098\n",
       "Grenoble                   1891\n",
       "Sankt Moritz               1657\n",
       "Sapporo                    1655\n",
       "Cortina d'Ampezzo          1307\n",
       "St. Louis                  1301\n",
       "Squaw Valley               1116\n",
       "Oslo                       1088\n",
       "Garmisch-Partenkirchen      895\n",
       "Chamonix                    460\n",
       "Name: City, dtype: int64"
      ]
     },
     "execution_count": 56,
     "metadata": {},
     "output_type": "execute_result"
    }
   ],
   "source": [
    "dados['City'].value_counts() "
   ]
  },
  {
   "cell_type": "code",
   "execution_count": 57,
   "id": "a345f0cf",
   "metadata": {},
   "outputs": [
    {
     "data": {
      "text/plain": [
       "M    196594\n",
       "F     74522\n",
       "Name: Sexo, dtype: int64"
      ]
     },
     "execution_count": 57,
     "metadata": {},
     "output_type": "execute_result"
    }
   ],
   "source": [
    "dados['Sexo'].value_counts() "
   ]
  },
  {
   "cell_type": "code",
   "execution_count": 58,
   "id": "320ceaf0",
   "metadata": {},
   "outputs": [
    {
     "data": {
      "text/html": [
       "<div>\n",
       "<style scoped>\n",
       "    .dataframe tbody tr th:only-of-type {\n",
       "        vertical-align: middle;\n",
       "    }\n",
       "\n",
       "    .dataframe tbody tr th {\n",
       "        vertical-align: top;\n",
       "    }\n",
       "\n",
       "    .dataframe thead th {\n",
       "        text-align: right;\n",
       "    }\n",
       "</style>\n",
       "<table border=\"1\" class=\"dataframe\">\n",
       "  <thead>\n",
       "    <tr style=\"text-align: right;\">\n",
       "      <th></th>\n",
       "      <th>ID</th>\n",
       "      <th>Idade</th>\n",
       "      <th>Height</th>\n",
       "      <th>Weight</th>\n",
       "      <th>Year</th>\n",
       "    </tr>\n",
       "  </thead>\n",
       "  <tbody>\n",
       "    <tr>\n",
       "      <th>count</th>\n",
       "      <td>271116.000000</td>\n",
       "      <td>261642.000000</td>\n",
       "      <td>210945.000000</td>\n",
       "      <td>208241.000000</td>\n",
       "      <td>271116.000000</td>\n",
       "    </tr>\n",
       "    <tr>\n",
       "      <th>mean</th>\n",
       "      <td>68248.954396</td>\n",
       "      <td>25.556898</td>\n",
       "      <td>175.338970</td>\n",
       "      <td>70.702393</td>\n",
       "      <td>1978.378480</td>\n",
       "    </tr>\n",
       "    <tr>\n",
       "      <th>std</th>\n",
       "      <td>39022.286345</td>\n",
       "      <td>6.393561</td>\n",
       "      <td>10.518462</td>\n",
       "      <td>14.348020</td>\n",
       "      <td>29.877632</td>\n",
       "    </tr>\n",
       "    <tr>\n",
       "      <th>min</th>\n",
       "      <td>1.000000</td>\n",
       "      <td>10.000000</td>\n",
       "      <td>127.000000</td>\n",
       "      <td>25.000000</td>\n",
       "      <td>1896.000000</td>\n",
       "    </tr>\n",
       "    <tr>\n",
       "      <th>25%</th>\n",
       "      <td>34643.000000</td>\n",
       "      <td>21.000000</td>\n",
       "      <td>168.000000</td>\n",
       "      <td>60.000000</td>\n",
       "      <td>1960.000000</td>\n",
       "    </tr>\n",
       "    <tr>\n",
       "      <th>50%</th>\n",
       "      <td>68205.000000</td>\n",
       "      <td>24.000000</td>\n",
       "      <td>175.000000</td>\n",
       "      <td>70.000000</td>\n",
       "      <td>1988.000000</td>\n",
       "    </tr>\n",
       "    <tr>\n",
       "      <th>75%</th>\n",
       "      <td>102097.250000</td>\n",
       "      <td>28.000000</td>\n",
       "      <td>183.000000</td>\n",
       "      <td>79.000000</td>\n",
       "      <td>2002.000000</td>\n",
       "    </tr>\n",
       "    <tr>\n",
       "      <th>max</th>\n",
       "      <td>135571.000000</td>\n",
       "      <td>97.000000</td>\n",
       "      <td>226.000000</td>\n",
       "      <td>214.000000</td>\n",
       "      <td>2016.000000</td>\n",
       "    </tr>\n",
       "  </tbody>\n",
       "</table>\n",
       "</div>"
      ],
      "text/plain": [
       "                  ID          Idade         Height         Weight  \\\n",
       "count  271116.000000  261642.000000  210945.000000  208241.000000   \n",
       "mean    68248.954396      25.556898     175.338970      70.702393   \n",
       "std     39022.286345       6.393561      10.518462      14.348020   \n",
       "min         1.000000      10.000000     127.000000      25.000000   \n",
       "25%     34643.000000      21.000000     168.000000      60.000000   \n",
       "50%     68205.000000      24.000000     175.000000      70.000000   \n",
       "75%    102097.250000      28.000000     183.000000      79.000000   \n",
       "max    135571.000000      97.000000     226.000000     214.000000   \n",
       "\n",
       "                Year  \n",
       "count  271116.000000  \n",
       "mean     1978.378480  \n",
       "std        29.877632  \n",
       "min      1896.000000  \n",
       "25%      1960.000000  \n",
       "50%      1988.000000  \n",
       "75%      2002.000000  \n",
       "max      2016.000000  "
      ]
     },
     "execution_count": 58,
     "metadata": {},
     "output_type": "execute_result"
    }
   ],
   "source": [
    "dados.describe()"
   ]
  },
  {
   "cell_type": "code",
   "execution_count": 59,
   "id": "61981bdd",
   "metadata": {},
   "outputs": [],
   "source": [
    "dados1 = dados.drop(columns=['ID']) # Exclui a coluna ID"
   ]
  },
  {
   "cell_type": "code",
   "execution_count": 60,
   "id": "db869f78",
   "metadata": {},
   "outputs": [
    {
     "name": "stdout",
     "output_type": "stream",
     "text": [
      "                            Nome Sexo  Idade  Height  Weight            Team  \\\n",
      "0                      A Dijiang    M   24.0   180.0    80.0           China   \n",
      "1                       A Lamusi    M   23.0   170.0    60.0           China   \n",
      "2            Gunnar Nielsen Aaby    M   24.0     NaN     NaN         Denmark   \n",
      "3           Edgar Lindenau Aabye    M   34.0     NaN     NaN  Denmark/Sweden   \n",
      "4       Christine Jacoba Aaftink    F   21.0   185.0    82.0     Netherlands   \n",
      "...                          ...  ...    ...     ...     ...             ...   \n",
      "271111                Andrzej ya    M   29.0   179.0    89.0        Poland-1   \n",
      "271112                  Piotr ya    M   27.0   176.0    59.0          Poland   \n",
      "271113                  Piotr ya    M   27.0   176.0    59.0          Poland   \n",
      "271114        Tomasz Ireneusz ya    M   30.0   185.0    96.0          Poland   \n",
      "271115        Tomasz Ireneusz ya    M   34.0   185.0    96.0          Poland   \n",
      "\n",
      "        NOC        Games  Year  Season            City          Sport  \\\n",
      "0       CHN  1992 Summer  1992  Summer       Barcelona     Basketball   \n",
      "1       CHN  2012 Summer  2012  Summer          London           Judo   \n",
      "2       DEN  1920 Summer  1920  Summer       Antwerpen       Football   \n",
      "3       DEN  1900 Summer  1900  Summer           Paris     Tug-Of-War   \n",
      "4       NED  1988 Winter  1988  Winter         Calgary  Speed Skating   \n",
      "...     ...          ...   ...     ...             ...            ...   \n",
      "271111  POL  1976 Winter  1976  Winter       Innsbruck           Luge   \n",
      "271112  POL  2014 Winter  2014  Winter           Sochi    Ski Jumping   \n",
      "271113  POL  2014 Winter  2014  Winter           Sochi    Ski Jumping   \n",
      "271114  POL  1998 Winter  1998  Winter          Nagano      Bobsleigh   \n",
      "271115  POL  2002 Winter  2002  Winter  Salt Lake City      Bobsleigh   \n",
      "\n",
      "                                           Event Medal  \n",
      "0                    Basketball Men's Basketball   NaN  \n",
      "1                   Judo Men's Extra-Lightweight   NaN  \n",
      "2                        Football Men's Football   NaN  \n",
      "3                    Tug-Of-War Men's Tug-Of-War  Gold  \n",
      "4               Speed Skating Women's 500 metres   NaN  \n",
      "...                                          ...   ...  \n",
      "271111                Luge Mixed (Men)'s Doubles   NaN  \n",
      "271112  Ski Jumping Men's Large Hill, Individual   NaN  \n",
      "271113        Ski Jumping Men's Large Hill, Team   NaN  \n",
      "271114                      Bobsleigh Men's Four   NaN  \n",
      "271115                      Bobsleigh Men's Four   NaN  \n",
      "\n",
      "[271116 rows x 14 columns]\n"
     ]
    }
   ],
   "source": [
    "print(dados1)"
   ]
  },
  {
   "cell_type": "code",
   "execution_count": 61,
   "id": "47aab13e",
   "metadata": {},
   "outputs": [
    {
     "data": {
      "text/html": [
       "<div>\n",
       "<style scoped>\n",
       "    .dataframe tbody tr th:only-of-type {\n",
       "        vertical-align: middle;\n",
       "    }\n",
       "\n",
       "    .dataframe tbody tr th {\n",
       "        vertical-align: top;\n",
       "    }\n",
       "\n",
       "    .dataframe thead th {\n",
       "        text-align: right;\n",
       "    }\n",
       "</style>\n",
       "<table border=\"1\" class=\"dataframe\">\n",
       "  <thead>\n",
       "    <tr style=\"text-align: right;\">\n",
       "      <th></th>\n",
       "      <th>Idade</th>\n",
       "      <th>Height</th>\n",
       "      <th>Weight</th>\n",
       "      <th>Year</th>\n",
       "    </tr>\n",
       "  </thead>\n",
       "  <tbody>\n",
       "    <tr>\n",
       "      <th>count</th>\n",
       "      <td>261642.000000</td>\n",
       "      <td>210945.000000</td>\n",
       "      <td>208241.000000</td>\n",
       "      <td>271116.000000</td>\n",
       "    </tr>\n",
       "    <tr>\n",
       "      <th>mean</th>\n",
       "      <td>25.556898</td>\n",
       "      <td>175.338970</td>\n",
       "      <td>70.702393</td>\n",
       "      <td>1978.378480</td>\n",
       "    </tr>\n",
       "    <tr>\n",
       "      <th>std</th>\n",
       "      <td>6.393561</td>\n",
       "      <td>10.518462</td>\n",
       "      <td>14.348020</td>\n",
       "      <td>29.877632</td>\n",
       "    </tr>\n",
       "    <tr>\n",
       "      <th>min</th>\n",
       "      <td>10.000000</td>\n",
       "      <td>127.000000</td>\n",
       "      <td>25.000000</td>\n",
       "      <td>1896.000000</td>\n",
       "    </tr>\n",
       "    <tr>\n",
       "      <th>25%</th>\n",
       "      <td>21.000000</td>\n",
       "      <td>168.000000</td>\n",
       "      <td>60.000000</td>\n",
       "      <td>1960.000000</td>\n",
       "    </tr>\n",
       "    <tr>\n",
       "      <th>50%</th>\n",
       "      <td>24.000000</td>\n",
       "      <td>175.000000</td>\n",
       "      <td>70.000000</td>\n",
       "      <td>1988.000000</td>\n",
       "    </tr>\n",
       "    <tr>\n",
       "      <th>75%</th>\n",
       "      <td>28.000000</td>\n",
       "      <td>183.000000</td>\n",
       "      <td>79.000000</td>\n",
       "      <td>2002.000000</td>\n",
       "    </tr>\n",
       "    <tr>\n",
       "      <th>max</th>\n",
       "      <td>97.000000</td>\n",
       "      <td>226.000000</td>\n",
       "      <td>214.000000</td>\n",
       "      <td>2016.000000</td>\n",
       "    </tr>\n",
       "  </tbody>\n",
       "</table>\n",
       "</div>"
      ],
      "text/plain": [
       "               Idade         Height         Weight           Year\n",
       "count  261642.000000  210945.000000  208241.000000  271116.000000\n",
       "mean       25.556898     175.338970      70.702393    1978.378480\n",
       "std         6.393561      10.518462      14.348020      29.877632\n",
       "min        10.000000     127.000000      25.000000    1896.000000\n",
       "25%        21.000000     168.000000      60.000000    1960.000000\n",
       "50%        24.000000     175.000000      70.000000    1988.000000\n",
       "75%        28.000000     183.000000      79.000000    2002.000000\n",
       "max        97.000000     226.000000     214.000000    2016.000000"
      ]
     },
     "execution_count": 61,
     "metadata": {},
     "output_type": "execute_result"
    }
   ],
   "source": [
    "dados1.describe()"
   ]
  },
  {
   "cell_type": "code",
   "execution_count": 62,
   "id": "9e8241b8",
   "metadata": {},
   "outputs": [],
   "source": [
    "# COMO EXCLUIR COLUNAS DO PANDAS\n",
    "\n",
    "dados.drop('ID', axis = 1, inplace = True)\n",
    "dados.drop('Games', axis = 1, inplace = True)\n",
    "dados.drop('NOC', axis = 1, inplace = True)"
   ]
  },
  {
   "cell_type": "code",
   "execution_count": 64,
   "id": "56e1ba3b",
   "metadata": {},
   "outputs": [
    {
     "data": {
      "text/html": [
       "<div>\n",
       "<style scoped>\n",
       "    .dataframe tbody tr th:only-of-type {\n",
       "        vertical-align: middle;\n",
       "    }\n",
       "\n",
       "    .dataframe tbody tr th {\n",
       "        vertical-align: top;\n",
       "    }\n",
       "\n",
       "    .dataframe thead th {\n",
       "        text-align: right;\n",
       "    }\n",
       "</style>\n",
       "<table border=\"1\" class=\"dataframe\">\n",
       "  <thead>\n",
       "    <tr style=\"text-align: right;\">\n",
       "      <th></th>\n",
       "      <th>Nome</th>\n",
       "      <th>Sexo</th>\n",
       "      <th>Idade</th>\n",
       "      <th>Height</th>\n",
       "      <th>Weight</th>\n",
       "      <th>Team</th>\n",
       "      <th>Year</th>\n",
       "      <th>Season</th>\n",
       "      <th>City</th>\n",
       "      <th>Sport</th>\n",
       "      <th>Event</th>\n",
       "      <th>Medal</th>\n",
       "    </tr>\n",
       "  </thead>\n",
       "  <tbody>\n",
       "    <tr>\n",
       "      <th>0</th>\n",
       "      <td>A Dijiang</td>\n",
       "      <td>M</td>\n",
       "      <td>24.0</td>\n",
       "      <td>180.0</td>\n",
       "      <td>80.0</td>\n",
       "      <td>China</td>\n",
       "      <td>1992</td>\n",
       "      <td>Summer</td>\n",
       "      <td>Barcelona</td>\n",
       "      <td>Basketball</td>\n",
       "      <td>Basketball Men's Basketball</td>\n",
       "      <td>NaN</td>\n",
       "    </tr>\n",
       "    <tr>\n",
       "      <th>1</th>\n",
       "      <td>A Lamusi</td>\n",
       "      <td>M</td>\n",
       "      <td>23.0</td>\n",
       "      <td>170.0</td>\n",
       "      <td>60.0</td>\n",
       "      <td>China</td>\n",
       "      <td>2012</td>\n",
       "      <td>Summer</td>\n",
       "      <td>London</td>\n",
       "      <td>Judo</td>\n",
       "      <td>Judo Men's Extra-Lightweight</td>\n",
       "      <td>NaN</td>\n",
       "    </tr>\n",
       "    <tr>\n",
       "      <th>2</th>\n",
       "      <td>Gunnar Nielsen Aaby</td>\n",
       "      <td>M</td>\n",
       "      <td>24.0</td>\n",
       "      <td>NaN</td>\n",
       "      <td>NaN</td>\n",
       "      <td>Denmark</td>\n",
       "      <td>1920</td>\n",
       "      <td>Summer</td>\n",
       "      <td>Antwerpen</td>\n",
       "      <td>Football</td>\n",
       "      <td>Football Men's Football</td>\n",
       "      <td>NaN</td>\n",
       "    </tr>\n",
       "    <tr>\n",
       "      <th>3</th>\n",
       "      <td>Edgar Lindenau Aabye</td>\n",
       "      <td>M</td>\n",
       "      <td>34.0</td>\n",
       "      <td>NaN</td>\n",
       "      <td>NaN</td>\n",
       "      <td>Denmark/Sweden</td>\n",
       "      <td>1900</td>\n",
       "      <td>Summer</td>\n",
       "      <td>Paris</td>\n",
       "      <td>Tug-Of-War</td>\n",
       "      <td>Tug-Of-War Men's Tug-Of-War</td>\n",
       "      <td>Gold</td>\n",
       "    </tr>\n",
       "    <tr>\n",
       "      <th>4</th>\n",
       "      <td>Christine Jacoba Aaftink</td>\n",
       "      <td>F</td>\n",
       "      <td>21.0</td>\n",
       "      <td>185.0</td>\n",
       "      <td>82.0</td>\n",
       "      <td>Netherlands</td>\n",
       "      <td>1988</td>\n",
       "      <td>Winter</td>\n",
       "      <td>Calgary</td>\n",
       "      <td>Speed Skating</td>\n",
       "      <td>Speed Skating Women's 500 metres</td>\n",
       "      <td>NaN</td>\n",
       "    </tr>\n",
       "  </tbody>\n",
       "</table>\n",
       "</div>"
      ],
      "text/plain": [
       "                       Nome Sexo  Idade  Height  Weight            Team  Year  \\\n",
       "0                 A Dijiang    M   24.0   180.0    80.0           China  1992   \n",
       "1                  A Lamusi    M   23.0   170.0    60.0           China  2012   \n",
       "2       Gunnar Nielsen Aaby    M   24.0     NaN     NaN         Denmark  1920   \n",
       "3      Edgar Lindenau Aabye    M   34.0     NaN     NaN  Denmark/Sweden  1900   \n",
       "4  Christine Jacoba Aaftink    F   21.0   185.0    82.0     Netherlands  1988   \n",
       "\n",
       "   Season       City          Sport                             Event Medal  \n",
       "0  Summer  Barcelona     Basketball       Basketball Men's Basketball   NaN  \n",
       "1  Summer     London           Judo      Judo Men's Extra-Lightweight   NaN  \n",
       "2  Summer  Antwerpen       Football           Football Men's Football   NaN  \n",
       "3  Summer      Paris     Tug-Of-War       Tug-Of-War Men's Tug-Of-War  Gold  \n",
       "4  Winter    Calgary  Speed Skating  Speed Skating Women's 500 metres   NaN  "
      ]
     },
     "execution_count": 64,
     "metadata": {},
     "output_type": "execute_result"
    }
   ],
   "source": [
    "dados.head()"
   ]
  },
  {
   "cell_type": "code",
   "execution_count": 5,
   "id": "3013e6da",
   "metadata": {},
   "outputs": [
    {
     "data": {
      "image/png": "[encoded data removed]",
      "text/plain": [
       "<Figure size 640x480 with 1 Axes>"
      ]
     },
     "metadata": {},
     "output_type": "display_data"
    }
   ],
   "source": [
    "# COMO CRIAR HISTOGRAMAS\n",
    "\n",
    "import matplotlib.pyplot as plt # Carregar pacote.\n",
    "\n",
    "dados.hist(column = 'Age', bins = 10) # O número de bins corresponde ao tamanho das colunas. Por exemplo, se existe uma variação\n",
    "# dos dados que vai de 10 a 90 anos de idade, então o tamanho das barras seria 8, com 80 (90-10) dividido por 10 bins que dá 8.\n",
    "\n",
    "plt.show() # Para apresentar o gráfico.\n",
    "\n",
    "# Interpretação dos bins: # 8 é o tamanho da faixa das barras, por exemplo, entre 10 e 18 anos existe um frequência de \n",
    "# 20 mil atletas, entre 18 anos e 26 anos existe um frequência de 160 mil atletas, e assim por diante."
   ]
  },
  {
   "cell_type": "code",
   "execution_count": null,
   "id": "f21dab7c",
   "metadata": {},
   "outputs": [],
   "source": []
  }
 ],
 "metadata": {
  "kernelspec": {
   "display_name": "Python 3 (ipykernel)",
   "language": "python",
   "name": "python3"
  },
  "language_info": {
   "codemirror_mode": {
    "name": "ipython",
    "version": 3
   },
   "file_extension": ".py",
   "mimetype": "text/x-python",
   "name": "python",
   "nbconvert_exporter": "python",
   "pygments_lexer": "ipython3",
   "version": "3.10.9"
  }
 },
 "nbformat": 4,
 "nbformat_minor": 5
}
