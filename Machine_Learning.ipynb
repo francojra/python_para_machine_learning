{
 "cells": [
  {
   "cell_type": "code",
   "execution_count": 1,
   "id": "90c6b73a",
   "metadata": {},
   "outputs": [],
   "source": [
    "# LISTAS\n",
    "lista1 = [1, 2, 3] # O Python só identifica como uma lista através dos colchetes."
   ]
  },
  {
   "cell_type": "code",
   "execution_count": 2,
   "id": "f63077b7",
   "metadata": {},
   "outputs": [
    {
     "data": {
      "text/plain": [
       "list"
      ]
     },
     "execution_count": 2,
     "metadata": {},
     "output_type": "execute_result"
    }
   ],
   "source": [
    "type(lista1)"
   ]
  },
  {
   "cell_type": "code",
   "execution_count": 3,
   "id": "9da913c2",
   "metadata": {},
   "outputs": [],
   "source": [
    "lista2 = [[1, 2, 3], [4, 5, 6], [7, 8, 9]]"
   ]
  },
  {
   "cell_type": "code",
   "execution_count": 4,
   "id": "fa0cdc5d",
   "metadata": {},
   "outputs": [
    {
     "data": {
      "text/plain": [
       "list"
      ]
     },
     "execution_count": 4,
     "metadata": {},
     "output_type": "execute_result"
    }
   ],
   "source": [
    "type(lista2)"
   ]
  },
  {
   "cell_type": "code",
   "execution_count": 5,
   "id": "d803cccc",
   "metadata": {},
   "outputs": [
    {
     "data": {
      "text/plain": [
       "1"
      ]
     },
     "execution_count": 5,
     "metadata": {},
     "output_type": "execute_result"
    }
   ],
   "source": [
    "lista1[0] # Para identificar um elemento (primeiro) da lista 1."
   ]
  },
  {
   "cell_type": "code",
   "execution_count": 6,
   "id": "d3242b9e",
   "metadata": {},
   "outputs": [
    {
     "data": {
      "text/plain": [
       "3"
      ]
     },
     "execution_count": 6,
     "metadata": {},
     "output_type": "execute_result"
    }
   ],
   "source": [
    "lista1[2]"
   ]
  },
  {
   "cell_type": "code",
   "execution_count": 7,
   "id": "baa703f5",
   "metadata": {},
   "outputs": [
    {
     "data": {
      "text/plain": [
       "[1, 2, 3]"
      ]
     },
     "execution_count": 7,
     "metadata": {},
     "output_type": "execute_result"
    }
   ],
   "source": [
    "lista2[0]"
   ]
  },
  {
   "cell_type": "code",
   "execution_count": 8,
   "id": "4fd65ff1",
   "metadata": {},
   "outputs": [
    {
     "data": {
      "text/plain": [
       "[7, 8, 9]"
      ]
     },
     "execution_count": 8,
     "metadata": {},
     "output_type": "execute_result"
    }
   ],
   "source": [
    "lista2[2]"
   ]
  },
  {
   "cell_type": "code",
   "execution_count": 9,
   "id": "f5be903f",
   "metadata": {},
   "outputs": [
    {
     "data": {
      "text/plain": [
       "3"
      ]
     },
     "execution_count": 9,
     "metadata": {},
     "output_type": "execute_result"
    }
   ],
   "source": [
    "lista2[0][2] # Seleciona o terceiro elemento da primeira lista."
   ]
  },
  {
   "cell_type": "code",
   "execution_count": 11,
   "id": "62f543f5",
   "metadata": {},
   "outputs": [
    {
     "data": {
      "text/plain": [
       "9"
      ]
     },
     "execution_count": 11,
     "metadata": {},
     "output_type": "execute_result"
    }
   ],
   "source": [
    "lista2[2][2]"
   ]
  },
  {
   "cell_type": "code",
   "execution_count": 12,
   "id": "5e8d4286",
   "metadata": {},
   "outputs": [],
   "source": [
    "select = lista2[1][2]"
   ]
  },
  {
   "cell_type": "code",
   "execution_count": 13,
   "id": "1cbfb658",
   "metadata": {},
   "outputs": [
    {
     "name": "stdout",
     "output_type": "stream",
     "text": [
      "6\n"
     ]
    }
   ],
   "source": [
    "print(select)"
   ]
  },
  {
   "cell_type": "code",
   "execution_count": 14,
   "id": "9a3f5f71",
   "metadata": {},
   "outputs": [
    {
     "data": {
      "text/plain": [
       "int"
      ]
     },
     "execution_count": 14,
     "metadata": {},
     "output_type": "execute_result"
    }
   ],
   "source": [
    "type(select)"
   ]
  },
  {
   "cell_type": "code",
   "execution_count": 18,
   "id": "db3feb9c",
   "metadata": {},
   "outputs": [],
   "source": [
    "select = lista2[2]"
   ]
  },
  {
   "cell_type": "code",
   "execution_count": 19,
   "id": "9119b828",
   "metadata": {},
   "outputs": [
    {
     "name": "stdout",
     "output_type": "stream",
     "text": [
      "[7, 8, 9]\n"
     ]
    },
    {
     "data": {
      "text/plain": [
       "list"
      ]
     },
     "execution_count": 19,
     "metadata": {},
     "output_type": "execute_result"
    }
   ],
   "source": [
    "print(select)\n",
    "type(select)"
   ]
  },
  {
   "cell_type": "code",
   "execution_count": 27,
   "id": "1b9327a5",
   "metadata": {},
   "outputs": [
    {
     "name": "stdout",
     "output_type": "stream",
     "text": [
      "A cidade escolhida é: São Paulo\n"
     ]
    }
   ],
   "source": [
    "import random\n",
    "cidades = [\"São Paulo\", \"Rio de Janeiro\", \"Belo Horizonte\", \"Natal\"]\n",
    "escolhida = random.choice(cidades)\n",
    "print(\"A cidade escolhida é:\", escolhida)"
   ]
  },
  {
   "cell_type": "code",
   "execution_count": 28,
   "id": "f7f3cd74",
   "metadata": {},
   "outputs": [],
   "source": [
    "a = [1, 2, 3]"
   ]
  },
  {
   "cell_type": "code",
   "execution_count": 29,
   "id": "c5e18a31",
   "metadata": {},
   "outputs": [],
   "source": [
    "a.append(15) # Comando para adicionar um novo elemento à lista."
   ]
  },
  {
   "cell_type": "code",
   "execution_count": 30,
   "id": "d36d42a6",
   "metadata": {},
   "outputs": [
    {
     "name": "stdout",
     "output_type": "stream",
     "text": [
      "[1, 2, 3, 15]\n"
     ]
    }
   ],
   "source": [
    "print(a)"
   ]
  },
  {
   "cell_type": "code",
   "execution_count": 31,
   "id": "b37adace",
   "metadata": {},
   "outputs": [],
   "source": [
    "b = [7, 8, 9]"
   ]
  },
  {
   "cell_type": "code",
   "execution_count": 32,
   "id": "6e701e7b",
   "metadata": {},
   "outputs": [],
   "source": [
    "for item in b: # Para cada um dos elementos de b...\n",
    "    a.append(item) # Inclui cada elemento de b dentro da lista a."
   ]
  },
  {
   "cell_type": "code",
   "execution_count": 33,
   "id": "20bab8cf",
   "metadata": {},
   "outputs": [
    {
     "name": "stdout",
     "output_type": "stream",
     "text": [
      "[1, 2, 3, 15, 7, 8, 9]\n"
     ]
    }
   ],
   "source": [
    "print(a)"
   ]
  },
  {
   "cell_type": "code",
   "execution_count": 34,
   "id": "86fd0162",
   "metadata": {},
   "outputs": [
    {
     "data": {
      "text/plain": [
       "int"
      ]
     },
     "execution_count": 34,
     "metadata": {},
     "output_type": "execute_result"
    }
   ],
   "source": [
    "# TRANFORMANDO LISTAS FLOAT EM INT\n",
    "num = 8\n",
    "type(num)"
   ]
  },
  {
   "cell_type": "code",
   "execution_count": 35,
   "id": "1d6fca56",
   "metadata": {},
   "outputs": [
    {
     "data": {
      "text/plain": [
       "8.0"
      ]
     },
     "execution_count": 35,
     "metadata": {},
     "output_type": "execute_result"
    }
   ],
   "source": [
    "float(num) # Converte a variável num de inteiro para float."
   ]
  },
  {
   "cell_type": "code",
   "execution_count": 36,
   "id": "08df6ce3",
   "metadata": {},
   "outputs": [
    {
     "data": {
      "text/plain": [
       "float"
      ]
     },
     "execution_count": 36,
     "metadata": {},
     "output_type": "execute_result"
    }
   ],
   "source": [
    "num1 = 3.5\n",
    "type(num1)"
   ]
  },
  {
   "cell_type": "code",
   "execution_count": 37,
   "id": "2feedca1",
   "metadata": {},
   "outputs": [
    {
     "data": {
      "text/plain": [
       "3"
      ]
     },
     "execution_count": 37,
     "metadata": {},
     "output_type": "execute_result"
    }
   ],
   "source": [
    "int(num1) # Converte a variável num1 de float para inteiro."
   ]
  },
  {
   "cell_type": "code",
   "execution_count": 38,
   "id": "f80b5832",
   "metadata": {},
   "outputs": [
    {
     "data": {
      "text/plain": [
       "list"
      ]
     },
     "execution_count": 38,
     "metadata": {},
     "output_type": "execute_result"
    }
   ],
   "source": [
    "x = [2, 4, 10, 6]\n",
    "type(x)"
   ]
  },
  {
   "cell_type": "code",
   "execution_count": 41,
   "id": "47f2032a",
   "metadata": {},
   "outputs": [
    {
     "name": "stdout",
     "output_type": "stream",
     "text": [
      "[2, 4, 10, 6]\n"
     ]
    }
   ],
   "source": [
    "print(x)"
   ]
  },
  {
   "cell_type": "code",
   "execution_count": 44,
   "id": "bf171193",
   "metadata": {},
   "outputs": [],
   "source": [
    "nova = []\n",
    "for item in x: \n",
    "    nova.append(float(item))"
   ]
  },
  {
   "cell_type": "code",
   "execution_count": 45,
   "id": "b38db8c0",
   "metadata": {},
   "outputs": [
    {
     "name": "stdout",
     "output_type": "stream",
     "text": [
      "[2.0, 4.0, 10.0, 6.0]\n"
     ]
    }
   ],
   "source": [
    "print(nova)"
   ]
  },
  {
   "cell_type": "code",
   "execution_count": 1,
   "id": "33593a9d",
   "metadata": {},
   "outputs": [
    {
     "name": "stdout",
     "output_type": "stream",
     "text": [
      "[20, 6, 4]\n"
     ]
    }
   ],
   "source": [
    "# TUPLAS\n",
    "\n",
    "### Ao contrário das listas, as tuplas são colocadas em parênteses.\n",
    "### As tuplas são listas que não podem ser alteradas.\n",
    "\n",
    "lista = [3, 6, 4]\n",
    "lista[0] = 20 # Na lista é possível substituir os valores.\n",
    "print(lista)"
   ]
  },
  {
   "cell_type": "code",
   "execution_count": 2,
   "id": "76b20b26",
   "metadata": {},
   "outputs": [
    {
     "name": "stdout",
     "output_type": "stream",
     "text": [
      "[20, 6]\n"
     ]
    }
   ],
   "source": [
    "del lista[2] # Deleta o item dois da lista.\n",
    "print(lista)"
   ]
  },
  {
   "cell_type": "code",
   "execution_count": 3,
   "id": "b2f860f3",
   "metadata": {},
   "outputs": [
    {
     "ename": "TypeError",
     "evalue": "'tuple' object does not support item assignment",
     "output_type": "error",
     "traceback": [
      "\u001b[1;31m---------------------------------------------------------------------------\u001b[0m",
      "\u001b[1;31mTypeError\u001b[0m                                 Traceback (most recent call last)",
      "Cell \u001b[1;32mIn[3], line 2\u001b[0m\n\u001b[0;32m      1\u001b[0m tupla \u001b[38;5;241m=\u001b[39m (\u001b[38;5;241m5\u001b[39m, \u001b[38;5;241m3\u001b[39m, \u001b[38;5;241m8\u001b[39m)\n\u001b[1;32m----> 2\u001b[0m tupla[\u001b[38;5;241m0\u001b[39m] \u001b[38;5;241m=\u001b[39m \u001b[38;5;241m30\u001b[39m\n\u001b[0;32m      3\u001b[0m \u001b[38;5;28mprint\u001b[39m(tupla)\n",
      "\u001b[1;31mTypeError\u001b[0m: 'tuple' object does not support item assignment"
     ]
    }
   ],
   "source": [
    "tupla = (5, 3, 8)\n",
    "tupla[0] = 30\n",
    "print(tupla) # Retorna uma mensagem de erro informando que o intem não pode ser atribuído."
   ]
  },
  {
   "cell_type": "code",
   "execution_count": 4,
   "id": "55db88e3",
   "metadata": {},
   "outputs": [
    {
     "ename": "TypeError",
     "evalue": "'tuple' object doesn't support item deletion",
     "output_type": "error",
     "traceback": [
      "\u001b[1;31m---------------------------------------------------------------------------\u001b[0m",
      "\u001b[1;31mTypeError\u001b[0m                                 Traceback (most recent call last)",
      "Cell \u001b[1;32mIn[4], line 1\u001b[0m\n\u001b[1;32m----> 1\u001b[0m \u001b[38;5;28;01mdel\u001b[39;00m tupla[\u001b[38;5;241m2\u001b[39m]\n\u001b[0;32m      2\u001b[0m \u001b[38;5;28mprint\u001b[39m(tupla)\n",
      "\u001b[1;31mTypeError\u001b[0m: 'tuple' object doesn't support item deletion"
     ]
    }
   ],
   "source": [
    "del tupla[2]\n",
    "print(tupla) # Retorna mensagem de erro que não é permitido deletar item."
   ]
  },
  {
   "cell_type": "code",
   "execution_count": 5,
   "id": "108cfe84",
   "metadata": {},
   "outputs": [
    {
     "ename": "AttributeError",
     "evalue": "'tuple' object has no attribute 'append'",
     "output_type": "error",
     "traceback": [
      "\u001b[1;31m---------------------------------------------------------------------------\u001b[0m",
      "\u001b[1;31mAttributeError\u001b[0m                            Traceback (most recent call last)",
      "Cell \u001b[1;32mIn[5], line 1\u001b[0m\n\u001b[1;32m----> 1\u001b[0m \u001b[43mtupla\u001b[49m\u001b[38;5;241;43m.\u001b[39;49m\u001b[43mappend\u001b[49m(\u001b[38;5;241m10\u001b[39m)\n\u001b[0;32m      2\u001b[0m \u001b[38;5;28mprint\u001b[39m(tupla)\n",
      "\u001b[1;31mAttributeError\u001b[0m: 'tuple' object has no attribute 'append'"
     ]
    }
   ],
   "source": [
    "tupla.append(10)\n",
    "print(tupla) # Retorna mensagem de que não é permitido adicionar valores à tupla."
   ]
  },
  {
   "cell_type": "code",
   "execution_count": 7,
   "id": "d2f36fa3",
   "metadata": {},
   "outputs": [
    {
     "name": "stdout",
     "output_type": "stream",
     "text": [
      "(20, 6)\n"
     ]
    }
   ],
   "source": [
    "nova_tupla = tuple(lista) # Transforma a lista em tupla.\n",
    "print(nova_tupla)"
   ]
  },
  {
   "cell_type": "code",
   "execution_count": 8,
   "id": "26808464",
   "metadata": {},
   "outputs": [
    {
     "data": {
      "text/plain": [
       "tuple"
      ]
     },
     "execution_count": 8,
     "metadata": {},
     "output_type": "execute_result"
    }
   ],
   "source": [
    "type(nova_tupla)"
   ]
  },
  {
   "cell_type": "code",
   "execution_count": 9,
   "id": "44c15393",
   "metadata": {},
   "outputs": [
    {
     "name": "stdout",
     "output_type": "stream",
     "text": [
      "3\n"
     ]
    },
    {
     "data": {
      "text/plain": [
       "int"
      ]
     },
     "execution_count": 9,
     "metadata": {},
     "output_type": "execute_result"
    }
   ],
   "source": [
    "numero = (3)\n",
    "print(numero)\n",
    "type(numero) # Informa que é um inteiro, pois para ser considerado tupla\n",
    "## deve estar em forma de lista com vígulas entre os itens."
   ]
  },
  {
   "cell_type": "code",
   "execution_count": 10,
   "id": "af97e122",
   "metadata": {},
   "outputs": [
    {
     "data": {
      "text/plain": [
       "'Gratuito'"
      ]
     },
     "execution_count": 10,
     "metadata": {},
     "output_type": "execute_result"
    }
   ],
   "source": [
    "# DICIONÁRIOS\n",
    "\n",
    "### Dicionários são apresentados com notação de chaves.\n",
    "### Exemplo: dicionario = {chave:valor}.\n",
    "\n",
    "dicionario = {'Curso' : 'Python para Machine Learning',\n",
    "             'Produtor' : 'Didática Tech',\n",
    "             'Preço' : 'Gratuito',\n",
    "             'Nota' : 10} # Também podem ser atruídos valores.\n",
    "dicionario['Preço']"
   ]
  },
  {
   "cell_type": "code",
   "execution_count": 12,
   "id": "dd1c1f5d",
   "metadata": {},
   "outputs": [
    {
     "data": {
      "text/plain": [
       "10"
      ]
     },
     "execution_count": 12,
     "metadata": {},
     "output_type": "execute_result"
    }
   ],
   "source": [
    "dicionario['Nota']"
   ]
  },
  {
   "cell_type": "code",
   "execution_count": 13,
   "id": "5256d627",
   "metadata": {},
   "outputs": [
    {
     "name": "stdout",
     "output_type": "stream",
     "text": [
      "Didática Tech\n"
     ]
    }
   ],
   "source": [
    "a = dicionario['Produtor'] # Nova variável a recebe o atributo 'Pordutor' do dicionário.\n",
    "print(a)"
   ]
  },
  {
   "cell_type": "code",
   "execution_count": 14,
   "id": "89303bf7",
   "metadata": {},
   "outputs": [
    {
     "data": {
      "text/plain": [
       "'R$ 100,00'"
      ]
     },
     "execution_count": 14,
     "metadata": {},
     "output_type": "execute_result"
    }
   ],
   "source": [
    "dicionario['Preço'] = 'R$ 100,00'\n",
    "dicionario['Preço']"
   ]
  },
  {
   "cell_type": "code",
   "execution_count": 15,
   "id": "c7a6c9ad",
   "metadata": {},
   "outputs": [
    {
     "name": "stdout",
     "output_type": "stream",
     "text": [
      "{'Curso': 'Python para Machine Learning', 'Produtor': 'Didática Tech', 'Preço': 'R$ 100,00', 'Nota': 10}\n"
     ]
    }
   ],
   "source": [
    "print(dicionario)"
   ]
  },
  {
   "cell_type": "code",
   "execution_count": 17,
   "id": "2a8df999",
   "metadata": {},
   "outputs": [
    {
     "name": "stdout",
     "output_type": "stream",
     "text": [
      "{'Curso': 'Python para Machine Learning', 'Produtor': 'Didática Tech', 'Preço': 'R$ 100,00', 'Nota': 10, 'Pré-requisito': 'Python básico'}\n"
     ]
    }
   ],
   "source": [
    "dicionario['Pré-requisito'] = 'Python básico' # Para adicionar uma nova chave.\n",
    "print(dicionario)"
   ]
  },
  {
   "cell_type": "code",
   "execution_count": 18,
   "id": "4b2eb753",
   "metadata": {},
   "outputs": [
    {
     "data": {
      "text/plain": [
       "dict_keys(['Curso', 'Produtor', 'Preço', 'Nota', 'Pré-requisito'])"
      ]
     },
     "execution_count": 18,
     "metadata": {},
     "output_type": "execute_result"
    }
   ],
   "source": [
    "dicionario.keys()"
   ]
  },
  {
   "cell_type": "code",
   "execution_count": 19,
   "id": "479ba2f0",
   "metadata": {},
   "outputs": [
    {
     "data": {
      "text/plain": [
       "dict_values(['Python para Machine Learning', 'Didática Tech', 'R$ 100,00', 10, 'Python básico'])"
      ]
     },
     "execution_count": 19,
     "metadata": {},
     "output_type": "execute_result"
    }
   ],
   "source": [
    "dicionario.values() # Puxa os valores do dicionário"
   ]
  },
  {
   "cell_type": "code",
   "execution_count": 23,
   "id": "a7e71ab4",
   "metadata": {},
   "outputs": [
    {
     "data": {
      "text/plain": [
       "dict_items([('Curso', 'Python para Machine Learning'), ('Produtor', 'Didática Tech'), ('Preço', 'R$ 100,00'), ('Nota', 10), ('Pré-requisito', 'Python básico')])"
      ]
     },
     "execution_count": 23,
     "metadata": {},
     "output_type": "execute_result"
    }
   ],
   "source": [
    "dicionario.items() # Puxa todas as informações do dicionário."
   ]
  },
  {
   "cell_type": "code",
   "execution_count": 24,
   "id": "eb471894",
   "metadata": {},
   "outputs": [],
   "source": [
    "dicionario.clear() # Apaga todas as informações do dicionário."
   ]
  },
  {
   "cell_type": "code",
   "execution_count": 25,
   "id": "73c1f3d7",
   "metadata": {},
   "outputs": [
    {
     "name": "stdout",
     "output_type": "stream",
     "text": [
      "{}\n"
     ]
    }
   ],
   "source": [
    "print(dicionario)"
   ]
  },
  {
   "cell_type": "code",
   "execution_count": 29,
   "id": "6e2bae76",
   "metadata": {},
   "outputs": [
    {
     "data": {
      "text/plain": [
       "'tou '"
      ]
     },
     "execution_count": 29,
     "metadata": {},
     "output_type": "execute_result"
    }
   ],
   "source": [
    "# MANIPULANDO STRINGS\n",
    "\n",
    "frase = 'Estou gostando do curso.'\n",
    "frase[2:6]"
   ]
  },
  {
   "cell_type": "code",
   "execution_count": 30,
   "id": "f1136392",
   "metadata": {},
   "outputs": [
    {
     "data": {
      "text/plain": [
       "'t'"
      ]
     },
     "execution_count": 30,
     "metadata": {},
     "output_type": "execute_result"
    }
   ],
   "source": [
    "frase[2]"
   ]
  },
  {
   "cell_type": "code",
   "execution_count": 31,
   "id": "15145a76",
   "metadata": {},
   "outputs": [
    {
     "data": {
      "text/plain": [
       "'tan'"
      ]
     },
     "execution_count": 31,
     "metadata": {},
     "output_type": "execute_result"
    }
   ],
   "source": [
    "frase[9:12]"
   ]
  },
  {
   "cell_type": "code",
   "execution_count": 33,
   "id": "b20a84bb",
   "metadata": {},
   "outputs": [
    {
     "data": {
      "text/plain": [
       "'urso.'"
      ]
     },
     "execution_count": 33,
     "metadata": {},
     "output_type": "execute_result"
    }
   ],
   "source": [
    "frase[19:24]"
   ]
  },
  {
   "cell_type": "code",
   "execution_count": 34,
   "id": "c63df7d8",
   "metadata": {},
   "outputs": [
    {
     "data": {
      "text/plain": [
       "'Estou gostando do curso.'"
      ]
     },
     "execution_count": 34,
     "metadata": {},
     "output_type": "execute_result"
    }
   ],
   "source": [
    "frase[0:] # Imprime do primeiro caracter até o último."
   ]
  },
  {
   "cell_type": "code",
   "execution_count": 35,
   "id": "4fba07f4",
   "metadata": {},
   "outputs": [
    {
     "data": {
      "text/plain": [
       "'tugsad'"
      ]
     },
     "execution_count": 35,
     "metadata": {},
     "output_type": "execute_result"
    }
   ],
   "source": [
    "frase[2:13:2] # Puxa da posição 2 até a 13 pulando de 2 em 2."
   ]
  },
  {
   "cell_type": "code",
   "execution_count": 37,
   "id": "5ab20c1d",
   "metadata": {},
   "outputs": [
    {
     "data": {
      "text/plain": [
       "2"
      ]
     },
     "execution_count": 37,
     "metadata": {},
     "output_type": "execute_result"
    }
   ],
   "source": [
    "frase.count('t') # Conta a quantidade de letras 't'."
   ]
  },
  {
   "cell_type": "code",
   "execution_count": 39,
   "id": "a7ff9b37",
   "metadata": {},
   "outputs": [
    {
     "data": {
      "text/plain": [
       "3"
      ]
     },
     "execution_count": 39,
     "metadata": {},
     "output_type": "execute_result"
    }
   ],
   "source": [
    "frase.count(' ') # Conta os espaços."
   ]
  },
  {
   "cell_type": "code",
   "execution_count": 40,
   "id": "5b3987fe",
   "metadata": {},
   "outputs": [
    {
     "data": {
      "text/plain": [
       "24"
      ]
     },
     "execution_count": 40,
     "metadata": {},
     "output_type": "execute_result"
    }
   ],
   "source": [
    "len(frase) # Conta o número de caracteres."
   ]
  },
  {
   "cell_type": "code",
   "execution_count": 41,
   "id": "c6f80948",
   "metadata": {},
   "outputs": [
    {
     "data": {
      "text/plain": [
       "'Extou goxtando do curxo.'"
      ]
     },
     "execution_count": 41,
     "metadata": {},
     "output_type": "execute_result"
    }
   ],
   "source": [
    "frase.replace('s', 'x')"
   ]
  },
  {
   "cell_type": "code",
   "execution_count": 42,
   "id": "ac13e2fb",
   "metadata": {},
   "outputs": [
    {
     "data": {
      "text/plain": [
       "'Estou gostando do aprendizado.'"
      ]
     },
     "execution_count": 42,
     "metadata": {},
     "output_type": "execute_result"
    }
   ],
   "source": [
    "frase.replace('curso', 'aprendizado')"
   ]
  },
  {
   "cell_type": "code",
   "execution_count": 1,
   "id": "752c75f0",
   "metadata": {},
   "outputs": [],
   "source": [
    "# FUNÇÃO LAMBDA\n",
    "\n",
    "### Relembrando os conceitos da criação de funções.\n",
    "\n",
    "def somaQuadrados(a, b): # Define o nome da função e os parâmetros utilizados.\n",
    "    somaQ = a**2 + b**2 # Informa a fórmula da função.\n",
    "    return somaQ # Pede o resultado da função."
   ]
  },
  {
   "cell_type": "code",
   "execution_count": 2,
   "id": "18840b1a",
   "metadata": {},
   "outputs": [
    {
     "data": {
      "text/plain": [
       "65"
      ]
     },
     "execution_count": 2,
     "metadata": {},
     "output_type": "execute_result"
    }
   ],
   "source": [
    "somaQuadrados(4, 7)"
   ]
  },
  {
   "cell_type": "code",
   "execution_count": 3,
   "id": "d0f75fe9",
   "metadata": {},
   "outputs": [],
   "source": [
    "### A função lambda cria novas funções, mas de forma resumida.\n",
    "\n",
    "somaQuadrados2 = lambda a, b: a**2 + b**2"
   ]
  },
  {
   "cell_type": "code",
   "execution_count": 4,
   "id": "bac68199",
   "metadata": {},
   "outputs": [
    {
     "data": {
      "text/plain": [
       "29"
      ]
     },
     "execution_count": 4,
     "metadata": {},
     "output_type": "execute_result"
    }
   ],
   "source": [
    "somaQuadrados2(5, 2)"
   ]
  },
  {
   "cell_type": "code",
   "execution_count": 5,
   "id": "63804b1f",
   "metadata": {},
   "outputs": [],
   "source": [
    "calculadoraQuadrado = lambda a: a**2"
   ]
  },
  {
   "cell_type": "code",
   "execution_count": 6,
   "id": "81769151",
   "metadata": {},
   "outputs": [
    {
     "data": {
      "text/plain": [
       "16"
      ]
     },
     "execution_count": 6,
     "metadata": {},
     "output_type": "execute_result"
    }
   ],
   "source": [
    "calculadoraQuadrado(4)"
   ]
  },
  {
   "cell_type": "code",
   "execution_count": 7,
   "id": "5a4abfce",
   "metadata": {},
   "outputs": [],
   "source": [
    "x = lambda f: f/2"
   ]
  },
  {
   "cell_type": "code",
   "execution_count": 8,
   "id": "1b550677",
   "metadata": {},
   "outputs": [
    {
     "data": {
      "text/plain": [
       "4.5"
      ]
     },
     "execution_count": 8,
     "metadata": {},
     "output_type": "execute_result"
    }
   ],
   "source": [
    "x(9)"
   ]
  },
  {
   "cell_type": "code",
   "execution_count": null,
   "id": "b1de7ddc",
   "metadata": {},
   "outputs": [],
   "source": []
  }
 ],
 "metadata": {
  "kernelspec": {
   "display_name": "Python 3 (ipykernel)",
   "language": "python",
   "name": "python3"
  },
  "language_info": {
   "codemirror_mode": {
    "name": "ipython",
    "version": 3
   },
   "file_extension": ".py",
   "mimetype": "text/x-python",
   "name": "python",
   "nbconvert_exporter": "python",
   "pygments_lexer": "ipython3",
   "version": "3.10.9"
  }
 },
 "nbformat": 4,
 "nbformat_minor": 5
}
